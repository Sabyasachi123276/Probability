{
  "cells": [
    {
      "cell_type": "markdown",
      "metadata": {
        "origin_pos": 0,
        "id": "Dc973Xo9hyDI"
      },
      "source": [
        "# Probability\n",
        "\n",
        "In some form or another, machine learning is all about making predictions.\n",
        "We might want to predict the *probability* of a patient suffering a heart attack in the next year, given their clinical history. In anomaly detection, we might want to assess how *likely* a set of readings from an airplane's jet engine would be, were it operating normally. In reinforcement learning, we want an agent to act intelligently in an environment. This means we need to think about the probability of getting a high reward under each of the available actions. And when we build recommender systems we also need to think about probability. For example, say *hypothetically* that we worked for a large online bookseller. We might want to estimate the probability that a particular user would buy a particular book. For this we need to use the language of probability.\n",
        "Entire courses, majors, theses, careers, and even departments, are devoted to probability. So naturally, our goal in this section is not to teach the whole subject. Instead we hope to get you off the ground, to teach you just enough that you can start building your first deep learning models, and to give you enough of a flavor for the subject that you can begin to explore it on your own if you wish.\n",
        "\n",
        "We have already invoked probabilities in previous sections without articulating what precisely they are or giving a concrete example. Let us get more serious now by considering the first case: distinguishing cats and dogs based on photographs. This might sound simple but it is actually a formidable challenge. To start with, the difficulty of the problem may depend on the resolution of the image.\n",
        "\n",
        "While it is easy for humans to recognize cats and dogs at the resolution of $160 \\times 160$ pixels,\n",
        "it becomes challenging at $40 \\times 40$ pixels and next to impossible at $10 \\times 10$ pixels. In\n",
        "other words, our ability to tell cats and dogs apart at a large distance (and thus low resolution) might approach uninformed guessing. Probability gives us a\n",
        "formal way of reasoning about our level of certainty.\n",
        "If we are completely sure\n",
        "that the image depicts a cat, we say that the *probability* that the corresponding label $y$ is \"cat\", denoted $P(y=$ \"cat\"$)$ equals $1$.\n",
        "If we had no evidence to suggest that $y =$ \"cat\" or that $y =$ \"dog\", then we might say that the two possibilities were equally\n",
        "*likely* expressing this as $P(y=$ \"cat\"$) = P(y=$ \"dog\"$) = 0.5$. If we were reasonably\n",
        "confident, but not sure that the image depicted a cat, we might assign a\n",
        "probability $0.5  < P(y=$ \"cat\"$) < 1$.\n",
        "\n",
        "Now consider the second case: given some weather monitoring data, we want to predict the probability that it will rain in Taipei tomorrow. If it is summertime, the rain might come with probability 0.5.\n",
        "\n",
        "In both cases, we have some value of interest. And in both cases we are uncertain about the outcome.\n",
        "But there is a key difference between the two cases. In this first case, the image is in fact either a dog or a cat, and we just do not know which. In the second case, the outcome may actually be a random event, if you believe in such things (and most physicists do). So probability is a flexible language for reasoning about our level of certainty, and it can be applied effectively in a broad set of contexts.\n",
        "\n",
        "## Basic Probability Theory\n",
        "\n",
        "Say that we cast a die and want to know what the chance is of seeing a 1 rather than another digit. If the die is fair, all the six outcomes $\\{1, \\ldots, 6\\}$ are equally likely to occur, and thus we would see a $1$ in one out of six cases. Formally we state that $1$ occurs with probability $\\frac{1}{6}$.\n",
        "\n",
        "For a real die that we receive from a factory, we might not know those proportions and we would need to check whether it is tainted. The only way to investigate the die is by casting it many times and recording the outcomes. For each cast of the die, we will observe a value in $\\{1, \\ldots, 6\\}$. Given these outcomes, we want to investigate the probability of observing each outcome.\n",
        "\n",
        "One natural approach for each value is to take the\n",
        "individual count for that value and to divide it by the total number of tosses.\n",
        "This gives us an *estimate* of the probability of a given *event*. The *law of\n",
        "large numbers* tell us that as the number of tosses grows this estimate will draw closer and closer to the true underlying probability. Before going into the details of what is going here, let us try it out.\n",
        "\n",
        "To start, let us import the necessary packages.\n"
      ]
    },
    {
      "cell_type": "code",
      "execution_count": 1,
      "metadata": {
        "origin_pos": 1,
        "tab": [
          "mxnet"
        ],
        "colab": {
          "base_uri": "https://localhost:8080/",
          "height": 1000
        },
        "id": "H-KXxwjXhyDN",
        "outputId": "55d3e478-c5df-4e25-ebd8-5dbacf7a5083"
      },
      "outputs": [
        {
          "output_type": "stream",
          "name": "stdout",
          "text": [
            "Collecting mxnet\n",
            "  Downloading mxnet-1.9.0-py3-none-manylinux2014_x86_64.whl (47.3 MB)\n",
            "\u001b[K     |████████████████████████████████| 47.3 MB 2.2 MB/s \n",
            "\u001b[?25hRequirement already satisfied: numpy<2.0.0,>1.16.0 in /usr/local/lib/python3.7/dist-packages (from mxnet) (1.19.5)\n",
            "Collecting graphviz<0.9.0,>=0.8.1\n",
            "  Downloading graphviz-0.8.4-py2.py3-none-any.whl (16 kB)\n",
            "Requirement already satisfied: requests<3,>=2.20.0 in /usr/local/lib/python3.7/dist-packages (from mxnet) (2.23.0)\n",
            "Requirement already satisfied: idna<3,>=2.5 in /usr/local/lib/python3.7/dist-packages (from requests<3,>=2.20.0->mxnet) (2.10)\n",
            "Requirement already satisfied: certifi>=2017.4.17 in /usr/local/lib/python3.7/dist-packages (from requests<3,>=2.20.0->mxnet) (2021.10.8)\n",
            "Requirement already satisfied: urllib3!=1.25.0,!=1.25.1,<1.26,>=1.21.1 in /usr/local/lib/python3.7/dist-packages (from requests<3,>=2.20.0->mxnet) (1.24.3)\n",
            "Requirement already satisfied: chardet<4,>=3.0.2 in /usr/local/lib/python3.7/dist-packages (from requests<3,>=2.20.0->mxnet) (3.0.4)\n",
            "Installing collected packages: graphviz, mxnet\n",
            "  Attempting uninstall: graphviz\n",
            "    Found existing installation: graphviz 0.10.1\n",
            "    Uninstalling graphviz-0.10.1:\n",
            "      Successfully uninstalled graphviz-0.10.1\n",
            "Successfully installed graphviz-0.8.4 mxnet-1.9.0\n",
            "Collecting d2l\n",
            "  Downloading d2l-0.17.3-py3-none-any.whl (82 kB)\n",
            "\u001b[K     |████████████████████████████████| 82 kB 529 kB/s \n",
            "\u001b[?25hRequirement already satisfied: jupyter==1.0.0 in /usr/local/lib/python3.7/dist-packages (from d2l) (1.0.0)\n",
            "Collecting matplotlib==3.3.3\n",
            "  Downloading matplotlib-3.3.3-cp37-cp37m-manylinux1_x86_64.whl (11.6 MB)\n",
            "\u001b[K     |████████████████████████████████| 11.6 MB 30.0 MB/s \n",
            "\u001b[?25hCollecting numpy==1.18.5\n",
            "  Downloading numpy-1.18.5-cp37-cp37m-manylinux1_x86_64.whl (20.1 MB)\n",
            "\u001b[K     |████████████████████████████████| 20.1 MB 5.4 MB/s \n",
            "\u001b[?25hCollecting pandas==1.2.2\n",
            "  Downloading pandas-1.2.2-cp37-cp37m-manylinux1_x86_64.whl (9.9 MB)\n",
            "\u001b[K     |████████████████████████████████| 9.9 MB 46.6 MB/s \n",
            "\u001b[?25hCollecting requests==2.25.1\n",
            "  Downloading requests-2.25.1-py2.py3-none-any.whl (61 kB)\n",
            "\u001b[K     |████████████████████████████████| 61 kB 6.2 MB/s \n",
            "\u001b[?25hRequirement already satisfied: ipywidgets in /usr/local/lib/python3.7/dist-packages (from jupyter==1.0.0->d2l) (7.6.5)\n",
            "Requirement already satisfied: notebook in /usr/local/lib/python3.7/dist-packages (from jupyter==1.0.0->d2l) (5.3.1)\n",
            "Requirement already satisfied: qtconsole in /usr/local/lib/python3.7/dist-packages (from jupyter==1.0.0->d2l) (5.2.2)\n",
            "Requirement already satisfied: ipykernel in /usr/local/lib/python3.7/dist-packages (from jupyter==1.0.0->d2l) (4.10.1)\n",
            "Requirement already satisfied: jupyter-console in /usr/local/lib/python3.7/dist-packages (from jupyter==1.0.0->d2l) (5.2.0)\n",
            "Requirement already satisfied: nbconvert in /usr/local/lib/python3.7/dist-packages (from jupyter==1.0.0->d2l) (5.6.1)\n",
            "Requirement already satisfied: cycler>=0.10 in /usr/local/lib/python3.7/dist-packages (from matplotlib==3.3.3->d2l) (0.11.0)\n",
            "Requirement already satisfied: pyparsing!=2.0.4,!=2.1.2,!=2.1.6,>=2.0.3 in /usr/local/lib/python3.7/dist-packages (from matplotlib==3.3.3->d2l) (3.0.7)\n",
            "Requirement already satisfied: python-dateutil>=2.1 in /usr/local/lib/python3.7/dist-packages (from matplotlib==3.3.3->d2l) (2.8.2)\n",
            "Requirement already satisfied: kiwisolver>=1.0.1 in /usr/local/lib/python3.7/dist-packages (from matplotlib==3.3.3->d2l) (1.3.2)\n",
            "Requirement already satisfied: pillow>=6.2.0 in /usr/local/lib/python3.7/dist-packages (from matplotlib==3.3.3->d2l) (7.1.2)\n",
            "Requirement already satisfied: pytz>=2017.3 in /usr/local/lib/python3.7/dist-packages (from pandas==1.2.2->d2l) (2018.9)\n",
            "Requirement already satisfied: chardet<5,>=3.0.2 in /usr/local/lib/python3.7/dist-packages (from requests==2.25.1->d2l) (3.0.4)\n",
            "Requirement already satisfied: idna<3,>=2.5 in /usr/local/lib/python3.7/dist-packages (from requests==2.25.1->d2l) (2.10)\n",
            "Requirement already satisfied: urllib3<1.27,>=1.21.1 in /usr/local/lib/python3.7/dist-packages (from requests==2.25.1->d2l) (1.24.3)\n",
            "Requirement already satisfied: certifi>=2017.4.17 in /usr/local/lib/python3.7/dist-packages (from requests==2.25.1->d2l) (2021.10.8)\n",
            "Requirement already satisfied: six>=1.5 in /usr/local/lib/python3.7/dist-packages (from python-dateutil>=2.1->matplotlib==3.3.3->d2l) (1.15.0)\n",
            "Requirement already satisfied: ipython>=4.0.0 in /usr/local/lib/python3.7/dist-packages (from ipykernel->jupyter==1.0.0->d2l) (5.5.0)\n",
            "Requirement already satisfied: traitlets>=4.1.0 in /usr/local/lib/python3.7/dist-packages (from ipykernel->jupyter==1.0.0->d2l) (5.1.1)\n",
            "Requirement already satisfied: jupyter-client in /usr/local/lib/python3.7/dist-packages (from ipykernel->jupyter==1.0.0->d2l) (5.3.5)\n",
            "Requirement already satisfied: tornado>=4.0 in /usr/local/lib/python3.7/dist-packages (from ipykernel->jupyter==1.0.0->d2l) (5.1.1)\n",
            "Requirement already satisfied: pexpect in /usr/local/lib/python3.7/dist-packages (from ipython>=4.0.0->ipykernel->jupyter==1.0.0->d2l) (4.8.0)\n",
            "Requirement already satisfied: decorator in /usr/local/lib/python3.7/dist-packages (from ipython>=4.0.0->ipykernel->jupyter==1.0.0->d2l) (4.4.2)\n",
            "Requirement already satisfied: prompt-toolkit<2.0.0,>=1.0.4 in /usr/local/lib/python3.7/dist-packages (from ipython>=4.0.0->ipykernel->jupyter==1.0.0->d2l) (1.0.18)\n",
            "Requirement already satisfied: pygments in /usr/local/lib/python3.7/dist-packages (from ipython>=4.0.0->ipykernel->jupyter==1.0.0->d2l) (2.6.1)\n",
            "Requirement already satisfied: pickleshare in /usr/local/lib/python3.7/dist-packages (from ipython>=4.0.0->ipykernel->jupyter==1.0.0->d2l) (0.7.5)\n",
            "Requirement already satisfied: simplegeneric>0.8 in /usr/local/lib/python3.7/dist-packages (from ipython>=4.0.0->ipykernel->jupyter==1.0.0->d2l) (0.8.1)\n",
            "Requirement already satisfied: setuptools>=18.5 in /usr/local/lib/python3.7/dist-packages (from ipython>=4.0.0->ipykernel->jupyter==1.0.0->d2l) (57.4.0)\n",
            "Requirement already satisfied: wcwidth in /usr/local/lib/python3.7/dist-packages (from prompt-toolkit<2.0.0,>=1.0.4->ipython>=4.0.0->ipykernel->jupyter==1.0.0->d2l) (0.2.5)\n",
            "Requirement already satisfied: ipython-genutils~=0.2.0 in /usr/local/lib/python3.7/dist-packages (from ipywidgets->jupyter==1.0.0->d2l) (0.2.0)\n",
            "Requirement already satisfied: widgetsnbextension~=3.5.0 in /usr/local/lib/python3.7/dist-packages (from ipywidgets->jupyter==1.0.0->d2l) (3.5.2)\n",
            "Requirement already satisfied: jupyterlab-widgets>=1.0.0 in /usr/local/lib/python3.7/dist-packages (from ipywidgets->jupyter==1.0.0->d2l) (1.0.2)\n",
            "Requirement already satisfied: nbformat>=4.2.0 in /usr/local/lib/python3.7/dist-packages (from ipywidgets->jupyter==1.0.0->d2l) (5.1.3)\n",
            "Requirement already satisfied: jupyter-core in /usr/local/lib/python3.7/dist-packages (from nbformat>=4.2.0->ipywidgets->jupyter==1.0.0->d2l) (4.9.1)\n",
            "Requirement already satisfied: jsonschema!=2.5.0,>=2.4 in /usr/local/lib/python3.7/dist-packages (from nbformat>=4.2.0->ipywidgets->jupyter==1.0.0->d2l) (4.3.3)\n",
            "Requirement already satisfied: importlib-metadata in /usr/local/lib/python3.7/dist-packages (from jsonschema!=2.5.0,>=2.4->nbformat>=4.2.0->ipywidgets->jupyter==1.0.0->d2l) (4.10.1)\n",
            "Requirement already satisfied: pyrsistent!=0.17.0,!=0.17.1,!=0.17.2,>=0.14.0 in /usr/local/lib/python3.7/dist-packages (from jsonschema!=2.5.0,>=2.4->nbformat>=4.2.0->ipywidgets->jupyter==1.0.0->d2l) (0.18.1)\n",
            "Requirement already satisfied: typing-extensions in /usr/local/lib/python3.7/dist-packages (from jsonschema!=2.5.0,>=2.4->nbformat>=4.2.0->ipywidgets->jupyter==1.0.0->d2l) (3.10.0.2)\n",
            "Requirement already satisfied: importlib-resources>=1.4.0 in /usr/local/lib/python3.7/dist-packages (from jsonschema!=2.5.0,>=2.4->nbformat>=4.2.0->ipywidgets->jupyter==1.0.0->d2l) (5.4.0)\n",
            "Requirement already satisfied: attrs>=17.4.0 in /usr/local/lib/python3.7/dist-packages (from jsonschema!=2.5.0,>=2.4->nbformat>=4.2.0->ipywidgets->jupyter==1.0.0->d2l) (21.4.0)\n",
            "Requirement already satisfied: zipp>=3.1.0 in /usr/local/lib/python3.7/dist-packages (from importlib-resources>=1.4.0->jsonschema!=2.5.0,>=2.4->nbformat>=4.2.0->ipywidgets->jupyter==1.0.0->d2l) (3.7.0)\n",
            "Requirement already satisfied: terminado>=0.8.1 in /usr/local/lib/python3.7/dist-packages (from notebook->jupyter==1.0.0->d2l) (0.12.1)\n",
            "Requirement already satisfied: Send2Trash in /usr/local/lib/python3.7/dist-packages (from notebook->jupyter==1.0.0->d2l) (1.8.0)\n",
            "Requirement already satisfied: jinja2 in /usr/local/lib/python3.7/dist-packages (from notebook->jupyter==1.0.0->d2l) (2.11.3)\n",
            "Requirement already satisfied: pyzmq>=13 in /usr/local/lib/python3.7/dist-packages (from jupyter-client->ipykernel->jupyter==1.0.0->d2l) (22.3.0)\n",
            "Requirement already satisfied: ptyprocess in /usr/local/lib/python3.7/dist-packages (from terminado>=0.8.1->notebook->jupyter==1.0.0->d2l) (0.7.0)\n",
            "Requirement already satisfied: MarkupSafe>=0.23 in /usr/local/lib/python3.7/dist-packages (from jinja2->notebook->jupyter==1.0.0->d2l) (2.0.1)\n",
            "Requirement already satisfied: pandocfilters>=1.4.1 in /usr/local/lib/python3.7/dist-packages (from nbconvert->jupyter==1.0.0->d2l) (1.5.0)\n",
            "Requirement already satisfied: testpath in /usr/local/lib/python3.7/dist-packages (from nbconvert->jupyter==1.0.0->d2l) (0.5.0)\n",
            "Requirement already satisfied: mistune<2,>=0.8.1 in /usr/local/lib/python3.7/dist-packages (from nbconvert->jupyter==1.0.0->d2l) (0.8.4)\n",
            "Requirement already satisfied: entrypoints>=0.2.2 in /usr/local/lib/python3.7/dist-packages (from nbconvert->jupyter==1.0.0->d2l) (0.3)\n",
            "Requirement already satisfied: bleach in /usr/local/lib/python3.7/dist-packages (from nbconvert->jupyter==1.0.0->d2l) (4.1.0)\n",
            "Requirement already satisfied: defusedxml in /usr/local/lib/python3.7/dist-packages (from nbconvert->jupyter==1.0.0->d2l) (0.7.1)\n",
            "Requirement already satisfied: webencodings in /usr/local/lib/python3.7/dist-packages (from bleach->nbconvert->jupyter==1.0.0->d2l) (0.5.1)\n",
            "Requirement already satisfied: packaging in /usr/local/lib/python3.7/dist-packages (from bleach->nbconvert->jupyter==1.0.0->d2l) (21.3)\n",
            "Requirement already satisfied: qtpy in /usr/local/lib/python3.7/dist-packages (from qtconsole->jupyter==1.0.0->d2l) (2.0.0)\n",
            "Installing collected packages: numpy, requests, pandas, matplotlib, d2l\n",
            "  Attempting uninstall: numpy\n",
            "    Found existing installation: numpy 1.19.5\n",
            "    Uninstalling numpy-1.19.5:\n",
            "      Successfully uninstalled numpy-1.19.5\n",
            "  Attempting uninstall: requests\n",
            "    Found existing installation: requests 2.23.0\n",
            "    Uninstalling requests-2.23.0:\n",
            "      Successfully uninstalled requests-2.23.0\n",
            "  Attempting uninstall: pandas\n",
            "    Found existing installation: pandas 1.1.5\n",
            "    Uninstalling pandas-1.1.5:\n",
            "      Successfully uninstalled pandas-1.1.5\n",
            "  Attempting uninstall: matplotlib\n",
            "    Found existing installation: matplotlib 3.2.2\n",
            "    Uninstalling matplotlib-3.2.2:\n",
            "      Successfully uninstalled matplotlib-3.2.2\n",
            "\u001b[31mERROR: pip's dependency resolver does not currently take into account all the packages that are installed. This behaviour is the source of the following dependency conflicts.\n",
            "google-colab 1.0.0 requires pandas~=1.1.0; python_version >= \"3.0\", but you have pandas 1.2.2 which is incompatible.\n",
            "google-colab 1.0.0 requires requests~=2.23.0, but you have requests 2.25.1 which is incompatible.\n",
            "datascience 0.10.6 requires folium==0.2.1, but you have folium 0.8.3 which is incompatible.\n",
            "albumentations 0.1.12 requires imgaug<0.2.7,>=0.2.5, but you have imgaug 0.2.9 which is incompatible.\u001b[0m\n",
            "Successfully installed d2l-0.17.3 matplotlib-3.3.3 numpy-1.18.5 pandas-1.2.2 requests-2.25.1\n"
          ]
        },
        {
          "output_type": "display_data",
          "data": {
            "application/vnd.colab-display-data+json": {
              "pip_warning": {
                "packages": [
                  "matplotlib",
                  "mpl_toolkits",
                  "numpy",
                  "pandas"
                ]
              }
            }
          },
          "metadata": {}
        }
      ],
      "source": [
        "!pip install mxnet\n",
        "!pip install d2l\n",
        "%matplotlib inline\n",
        "import random\n",
        "from mxnet import np, npx\n",
        "from d2l import mxnet as d2l\n",
        "\n",
        "npx.set_np()\n"
      ]
    },
    {
      "cell_type": "markdown",
      "metadata": {
        "origin_pos": 4,
        "id": "2ZoLBffXhyDP"
      },
      "source": [
        "Next, we will want to be able to cast the die. In statistics we call this process\n",
        "of drawing examples from probability distributions *sampling*.\n",
        "The distribution\n",
        "that assigns probabilities to a number of discrete choices is called the\n",
        "*multinomial distribution*. We will give a more formal definition of\n",
        "*distribution* later, but at a high level, think of it as just an assignment of\n",
        "probabilities to events.\n",
        "\n",
        "To draw a single sample, we simply pass in a vector of probabilities.\n",
        "The output is another vector of the same length:\n",
        "its value at index $i$ is the number of times the sampling outcome corresponds to $i$.\n"
      ]
    },
    {
      "cell_type": "code",
      "execution_count": 2,
      "metadata": {
        "origin_pos": 5,
        "tab": [
          "mxnet"
        ],
        "colab": {
          "base_uri": "https://localhost:8080/"
        },
        "id": "Fi5RIWFhhyDP",
        "outputId": "437cf89a-f47d-4364-cadb-8da4eb0d29b0"
      },
      "outputs": [
        {
          "output_type": "execute_result",
          "data": {
            "text/plain": [
              "array([0, 0, 0, 1, 0, 0], dtype=int64)"
            ]
          },
          "metadata": {},
          "execution_count": 2
        }
      ],
      "source": [
        "fair_probs = [1.0 / 6] * 6\n",
        "np.random.multinomial(1, fair_probs)"
      ]
    },
    {
      "cell_type": "markdown",
      "metadata": {
        "origin_pos": 8,
        "id": "bEII-1j1hyDQ"
      },
      "source": [
        "If you run the sampler a bunch of times, you will find that you get out random\n",
        "values each time. As with estimating the fairness of a die, we often want to\n",
        "generate many samples from the same distribution. It would be unbearably slow to\n",
        "do this with a Python `for` loop, so the function we are using supports drawing\n",
        "multiple samples at once, returning an array of independent samples in any shape\n",
        "we might desire.\n"
      ]
    },
    {
      "cell_type": "code",
      "execution_count": 3,
      "metadata": {
        "origin_pos": 9,
        "tab": [
          "mxnet"
        ],
        "colab": {
          "base_uri": "https://localhost:8080/"
        },
        "id": "0oUpE35uhyDR",
        "outputId": "55febb93-defc-49ec-d728-9c52ea1e751c"
      },
      "outputs": [
        {
          "output_type": "execute_result",
          "data": {
            "text/plain": [
              "array([1, 1, 5, 1, 1, 1], dtype=int64)"
            ]
          },
          "metadata": {},
          "execution_count": 3
        }
      ],
      "source": [
        "np.random.multinomial(10, fair_probs)"
      ]
    },
    {
      "cell_type": "markdown",
      "metadata": {
        "origin_pos": 12,
        "id": "5rzRae9YhyDS"
      },
      "source": [
        "Now that we know how to sample rolls of a die, we can simulate 1000 rolls. We\n",
        "can then go through and count, after each of the 1000 rolls, how many times each\n",
        "number was rolled.\n",
        "Specifically, we calculate the relative frequency as the estimate of the true probability.\n"
      ]
    },
    {
      "cell_type": "code",
      "execution_count": 4,
      "metadata": {
        "origin_pos": 13,
        "tab": [
          "mxnet"
        ],
        "colab": {
          "base_uri": "https://localhost:8080/"
        },
        "id": "noB2cx4vhyDT",
        "outputId": "0d437b53-84e0-4861-c8aa-7697734261e1"
      },
      "outputs": [
        {
          "output_type": "execute_result",
          "data": {
            "text/plain": [
              "array([0.162, 0.149, 0.178, 0.17 , 0.166, 0.175])"
            ]
          },
          "metadata": {},
          "execution_count": 4
        }
      ],
      "source": [
        "counts = np.random.multinomial(1000, fair_probs).astype(np.float32)\n",
        "counts / 1000"
      ]
    },
    {
      "cell_type": "markdown",
      "metadata": {
        "origin_pos": 16,
        "id": "dFfhDXd_hyDT"
      },
      "source": [
        "Because we generated the data from a fair die, we know that each outcome has true probability $\\frac{1}{6}$, roughly $0.167$, so the above output estimates look good.\n",
        "\n",
        "We can also visualize how these probabilities converge over time towards the true probability.\n",
        "Let us conduct 500 groups of experiments where each group draws 10 samples.\n"
      ]
    },
    {
      "cell_type": "code",
      "execution_count": 7,
      "metadata": {
        "origin_pos": 17,
        "tab": [
          "mxnet"
        ],
        "colab": {
          "base_uri": "https://localhost:8080/",
          "height": 826
        },
        "id": "qcbc8BNChyDU",
        "outputId": "f2e1b950-8c02-4701-8e1b-d716c4b39b08"
      },
      "outputs": [
        {
          "output_type": "stream",
          "name": "stdout",
          "text": [
            "Collecting matplotlib==3.1.3\n",
            "  Downloading matplotlib-3.1.3-cp37-cp37m-manylinux1_x86_64.whl (13.1 MB)\n",
            "\u001b[K     |████████████████████████████████| 13.1 MB 4.3 MB/s \n",
            "\u001b[?25hRequirement already satisfied: python-dateutil>=2.1 in /usr/local/lib/python3.7/dist-packages (from matplotlib==3.1.3) (2.8.2)\n",
            "Requirement already satisfied: pyparsing!=2.0.4,!=2.1.2,!=2.1.6,>=2.0.1 in /usr/local/lib/python3.7/dist-packages (from matplotlib==3.1.3) (3.0.7)\n",
            "Requirement already satisfied: kiwisolver>=1.0.1 in /usr/local/lib/python3.7/dist-packages (from matplotlib==3.1.3) (1.3.2)\n",
            "Requirement already satisfied: numpy>=1.11 in /usr/local/lib/python3.7/dist-packages (from matplotlib==3.1.3) (1.18.5)\n",
            "Requirement already satisfied: cycler>=0.10 in /usr/local/lib/python3.7/dist-packages (from matplotlib==3.1.3) (0.11.0)\n",
            "Requirement already satisfied: six>=1.5 in /usr/local/lib/python3.7/dist-packages (from python-dateutil>=2.1->matplotlib==3.1.3) (1.15.0)\n",
            "Installing collected packages: matplotlib\n",
            "  Attempting uninstall: matplotlib\n",
            "    Found existing installation: matplotlib 3.3.3\n",
            "    Uninstalling matplotlib-3.3.3:\n",
            "      Successfully uninstalled matplotlib-3.3.3\n",
            "\u001b[31mERROR: pip's dependency resolver does not currently take into account all the packages that are installed. This behaviour is the source of the following dependency conflicts.\n",
            "d2l 0.17.3 requires matplotlib==3.3.3, but you have matplotlib 3.1.3 which is incompatible.\n",
            "albumentations 0.1.12 requires imgaug<0.2.7,>=0.2.5, but you have imgaug 0.2.9 which is incompatible.\u001b[0m\n",
            "Successfully installed matplotlib-3.1.3\n"
          ]
        },
        {
          "output_type": "display_data",
          "data": {
            "application/vnd.colab-display-data+json": {
              "pip_warning": {
                "packages": [
                  "matplotlib",
                  "mpl_toolkits"
                ]
              }
            }
          },
          "metadata": {}
        },
        {
          "output_type": "display_data",
          "data": {
            "text/plain": [
              "<Figure size 432x324 with 1 Axes>"
            ],
            "image/svg+xml": "<?xml version=\"1.0\" encoding=\"utf-8\" standalone=\"no\"?>\n<!DOCTYPE svg PUBLIC \"-//W3C//DTD SVG 1.1//EN\"\n  \"http://www.w3.org/Graphics/SVG/1.1/DTD/svg11.dtd\">\n<!-- Created with matplotlib (https://matplotlib.org/) -->\n<svg height=\"289.37625pt\" version=\"1.1\" viewBox=\"0 0 385.78125 289.37625\" width=\"385.78125pt\" xmlns=\"http://www.w3.org/2000/svg\" xmlns:xlink=\"http://www.w3.org/1999/xlink\">\n <defs>\n  <style type=\"text/css\">\n*{stroke-linecap:butt;stroke-linejoin:round;}\n  </style>\n </defs>\n <g id=\"figure_1\">\n  <g id=\"patch_1\">\n   <path d=\"M 0 289.37625 \nL 385.78125 289.37625 \nL 385.78125 0 \nL 0 0 \nz\n\" style=\"fill:none;\"/>\n  </g>\n  <g id=\"axes_1\">\n   <g id=\"patch_2\">\n    <path d=\"M 43.78125 251.82 \nL 378.58125 251.82 \nL 378.58125 7.2 \nL 43.78125 7.2 \nz\n\" style=\"fill:#ffffff;\"/>\n   </g>\n   <g id=\"matplotlib.axis_1\">\n    <g id=\"xtick_1\">\n     <g id=\"line2d_1\">\n      <defs>\n       <path d=\"M 0 0 \nL 0 3.5 \n\" id=\"m4b079599ff\" style=\"stroke:#000000;stroke-width:0.8;\"/>\n      </defs>\n      <g>\n       <use style=\"stroke:#000000;stroke-width:0.8;\" x=\"58.999432\" xlink:href=\"#m4b079599ff\" y=\"251.82\"/>\n      </g>\n     </g>\n     <g id=\"text_1\">\n      <!-- 0 -->\n      <defs>\n       <path d=\"M 31.78125 66.40625 \nQ 24.171875 66.40625 20.328125 58.90625 \nQ 16.5 51.421875 16.5 36.375 \nQ 16.5 21.390625 20.328125 13.890625 \nQ 24.171875 6.390625 31.78125 6.390625 \nQ 39.453125 6.390625 43.28125 13.890625 \nQ 47.125 21.390625 47.125 36.375 \nQ 47.125 51.421875 43.28125 58.90625 \nQ 39.453125 66.40625 31.78125 66.40625 \nz\nM 31.78125 74.21875 \nQ 44.046875 74.21875 50.515625 64.515625 \nQ 56.984375 54.828125 56.984375 36.375 \nQ 56.984375 17.96875 50.515625 8.265625 \nQ 44.046875 -1.421875 31.78125 -1.421875 \nQ 19.53125 -1.421875 13.0625 8.265625 \nQ 6.59375 17.96875 6.59375 36.375 \nQ 6.59375 54.828125 13.0625 64.515625 \nQ 19.53125 74.21875 31.78125 74.21875 \nz\n\" id=\"DejaVuSans-48\"/>\n      </defs>\n      <g transform=\"translate(55.818182 266.418437)scale(0.1 -0.1)\">\n       <use xlink:href=\"#DejaVuSans-48\"/>\n      </g>\n     </g>\n    </g>\n    <g id=\"xtick_2\">\n     <g id=\"line2d_2\">\n      <g>\n       <use style=\"stroke:#000000;stroke-width:0.8;\" x=\"119.994149\" xlink:href=\"#m4b079599ff\" y=\"251.82\"/>\n      </g>\n     </g>\n     <g id=\"text_2\">\n      <!-- 100 -->\n      <defs>\n       <path d=\"M 12.40625 8.296875 \nL 28.515625 8.296875 \nL 28.515625 63.921875 \nL 10.984375 60.40625 \nL 10.984375 69.390625 \nL 28.421875 72.90625 \nL 38.28125 72.90625 \nL 38.28125 8.296875 \nL 54.390625 8.296875 \nL 54.390625 0 \nL 12.40625 0 \nz\n\" id=\"DejaVuSans-49\"/>\n      </defs>\n      <g transform=\"translate(110.450399 266.418437)scale(0.1 -0.1)\">\n       <use xlink:href=\"#DejaVuSans-49\"/>\n       <use x=\"63.623047\" xlink:href=\"#DejaVuSans-48\"/>\n       <use x=\"127.246094\" xlink:href=\"#DejaVuSans-48\"/>\n      </g>\n     </g>\n    </g>\n    <g id=\"xtick_3\">\n     <g id=\"line2d_3\">\n      <g>\n       <use style=\"stroke:#000000;stroke-width:0.8;\" x=\"180.988865\" xlink:href=\"#m4b079599ff\" y=\"251.82\"/>\n      </g>\n     </g>\n     <g id=\"text_3\">\n      <!-- 200 -->\n      <defs>\n       <path d=\"M 19.1875 8.296875 \nL 53.609375 8.296875 \nL 53.609375 0 \nL 7.328125 0 \nL 7.328125 8.296875 \nQ 12.9375 14.109375 22.625 23.890625 \nQ 32.328125 33.6875 34.8125 36.53125 \nQ 39.546875 41.84375 41.421875 45.53125 \nQ 43.3125 49.21875 43.3125 52.78125 \nQ 43.3125 58.59375 39.234375 62.25 \nQ 35.15625 65.921875 28.609375 65.921875 \nQ 23.96875 65.921875 18.8125 64.3125 \nQ 13.671875 62.703125 7.8125 59.421875 \nL 7.8125 69.390625 \nQ 13.765625 71.78125 18.9375 73 \nQ 24.125 74.21875 28.421875 74.21875 \nQ 39.75 74.21875 46.484375 68.546875 \nQ 53.21875 62.890625 53.21875 53.421875 \nQ 53.21875 48.921875 51.53125 44.890625 \nQ 49.859375 40.875 45.40625 35.40625 \nQ 44.1875 33.984375 37.640625 27.21875 \nQ 31.109375 20.453125 19.1875 8.296875 \nz\n\" id=\"DejaVuSans-50\"/>\n      </defs>\n      <g transform=\"translate(171.445115 266.418437)scale(0.1 -0.1)\">\n       <use xlink:href=\"#DejaVuSans-50\"/>\n       <use x=\"63.623047\" xlink:href=\"#DejaVuSans-48\"/>\n       <use x=\"127.246094\" xlink:href=\"#DejaVuSans-48\"/>\n      </g>\n     </g>\n    </g>\n    <g id=\"xtick_4\">\n     <g id=\"line2d_4\">\n      <g>\n       <use style=\"stroke:#000000;stroke-width:0.8;\" x=\"241.983582\" xlink:href=\"#m4b079599ff\" y=\"251.82\"/>\n      </g>\n     </g>\n     <g id=\"text_4\">\n      <!-- 300 -->\n      <defs>\n       <path d=\"M 40.578125 39.3125 \nQ 47.65625 37.796875 51.625 33 \nQ 55.609375 28.21875 55.609375 21.1875 \nQ 55.609375 10.40625 48.1875 4.484375 \nQ 40.765625 -1.421875 27.09375 -1.421875 \nQ 22.515625 -1.421875 17.65625 -0.515625 \nQ 12.796875 0.390625 7.625 2.203125 \nL 7.625 11.71875 \nQ 11.71875 9.328125 16.59375 8.109375 \nQ 21.484375 6.890625 26.8125 6.890625 \nQ 36.078125 6.890625 40.9375 10.546875 \nQ 45.796875 14.203125 45.796875 21.1875 \nQ 45.796875 27.640625 41.28125 31.265625 \nQ 36.765625 34.90625 28.71875 34.90625 \nL 20.21875 34.90625 \nL 20.21875 43.015625 \nL 29.109375 43.015625 \nQ 36.375 43.015625 40.234375 45.921875 \nQ 44.09375 48.828125 44.09375 54.296875 \nQ 44.09375 59.90625 40.109375 62.90625 \nQ 36.140625 65.921875 28.71875 65.921875 \nQ 24.65625 65.921875 20.015625 65.03125 \nQ 15.375 64.15625 9.8125 62.3125 \nL 9.8125 71.09375 \nQ 15.4375 72.65625 20.34375 73.4375 \nQ 25.25 74.21875 29.59375 74.21875 \nQ 40.828125 74.21875 47.359375 69.109375 \nQ 53.90625 64.015625 53.90625 55.328125 \nQ 53.90625 49.265625 50.4375 45.09375 \nQ 46.96875 40.921875 40.578125 39.3125 \nz\n\" id=\"DejaVuSans-51\"/>\n      </defs>\n      <g transform=\"translate(232.439832 266.418437)scale(0.1 -0.1)\">\n       <use xlink:href=\"#DejaVuSans-51\"/>\n       <use x=\"63.623047\" xlink:href=\"#DejaVuSans-48\"/>\n       <use x=\"127.246094\" xlink:href=\"#DejaVuSans-48\"/>\n      </g>\n     </g>\n    </g>\n    <g id=\"xtick_5\">\n     <g id=\"line2d_5\">\n      <g>\n       <use style=\"stroke:#000000;stroke-width:0.8;\" x=\"302.978299\" xlink:href=\"#m4b079599ff\" y=\"251.82\"/>\n      </g>\n     </g>\n     <g id=\"text_5\">\n      <!-- 400 -->\n      <defs>\n       <path d=\"M 37.796875 64.3125 \nL 12.890625 25.390625 \nL 37.796875 25.390625 \nz\nM 35.203125 72.90625 \nL 47.609375 72.90625 \nL 47.609375 25.390625 \nL 58.015625 25.390625 \nL 58.015625 17.1875 \nL 47.609375 17.1875 \nL 47.609375 0 \nL 37.796875 0 \nL 37.796875 17.1875 \nL 4.890625 17.1875 \nL 4.890625 26.703125 \nz\n\" id=\"DejaVuSans-52\"/>\n      </defs>\n      <g transform=\"translate(293.434549 266.418437)scale(0.1 -0.1)\">\n       <use xlink:href=\"#DejaVuSans-52\"/>\n       <use x=\"63.623047\" xlink:href=\"#DejaVuSans-48\"/>\n       <use x=\"127.246094\" xlink:href=\"#DejaVuSans-48\"/>\n      </g>\n     </g>\n    </g>\n    <g id=\"xtick_6\">\n     <g id=\"line2d_6\">\n      <g>\n       <use style=\"stroke:#000000;stroke-width:0.8;\" x=\"363.973015\" xlink:href=\"#m4b079599ff\" y=\"251.82\"/>\n      </g>\n     </g>\n     <g id=\"text_6\">\n      <!-- 500 -->\n      <defs>\n       <path d=\"M 10.796875 72.90625 \nL 49.515625 72.90625 \nL 49.515625 64.59375 \nL 19.828125 64.59375 \nL 19.828125 46.734375 \nQ 21.96875 47.46875 24.109375 47.828125 \nQ 26.265625 48.1875 28.421875 48.1875 \nQ 40.625 48.1875 47.75 41.5 \nQ 54.890625 34.8125 54.890625 23.390625 \nQ 54.890625 11.625 47.5625 5.09375 \nQ 40.234375 -1.421875 26.90625 -1.421875 \nQ 22.3125 -1.421875 17.546875 -0.640625 \nQ 12.796875 0.140625 7.71875 1.703125 \nL 7.71875 11.625 \nQ 12.109375 9.234375 16.796875 8.0625 \nQ 21.484375 6.890625 26.703125 6.890625 \nQ 35.15625 6.890625 40.078125 11.328125 \nQ 45.015625 15.765625 45.015625 23.390625 \nQ 45.015625 31 40.078125 35.4375 \nQ 35.15625 39.890625 26.703125 39.890625 \nQ 22.75 39.890625 18.8125 39.015625 \nQ 14.890625 38.140625 10.796875 36.28125 \nz\n\" id=\"DejaVuSans-53\"/>\n      </defs>\n      <g transform=\"translate(354.429265 266.418437)scale(0.1 -0.1)\">\n       <use xlink:href=\"#DejaVuSans-53\"/>\n       <use x=\"63.623047\" xlink:href=\"#DejaVuSans-48\"/>\n       <use x=\"127.246094\" xlink:href=\"#DejaVuSans-48\"/>\n      </g>\n     </g>\n    </g>\n    <g id=\"text_7\">\n     <!-- Groups of experiments -->\n     <defs>\n      <path d=\"M 59.515625 10.40625 \nL 59.515625 29.984375 \nL 43.40625 29.984375 \nL 43.40625 38.09375 \nL 69.28125 38.09375 \nL 69.28125 6.78125 \nQ 63.578125 2.734375 56.6875 0.65625 \nQ 49.8125 -1.421875 42 -1.421875 \nQ 24.90625 -1.421875 15.25 8.5625 \nQ 5.609375 18.5625 5.609375 36.375 \nQ 5.609375 54.25 15.25 64.234375 \nQ 24.90625 74.21875 42 74.21875 \nQ 49.125 74.21875 55.546875 72.453125 \nQ 61.96875 70.703125 67.390625 67.28125 \nL 67.390625 56.78125 \nQ 61.921875 61.421875 55.765625 63.765625 \nQ 49.609375 66.109375 42.828125 66.109375 \nQ 29.4375 66.109375 22.71875 58.640625 \nQ 16.015625 51.171875 16.015625 36.375 \nQ 16.015625 21.625 22.71875 14.15625 \nQ 29.4375 6.6875 42.828125 6.6875 \nQ 48.046875 6.6875 52.140625 7.59375 \nQ 56.25 8.5 59.515625 10.40625 \nz\n\" id=\"DejaVuSans-71\"/>\n      <path d=\"M 41.109375 46.296875 \nQ 39.59375 47.171875 37.8125 47.578125 \nQ 36.03125 48 33.890625 48 \nQ 26.265625 48 22.1875 43.046875 \nQ 18.109375 38.09375 18.109375 28.8125 \nL 18.109375 0 \nL 9.078125 0 \nL 9.078125 54.6875 \nL 18.109375 54.6875 \nL 18.109375 46.1875 \nQ 20.953125 51.171875 25.484375 53.578125 \nQ 30.03125 56 36.53125 56 \nQ 37.453125 56 38.578125 55.875 \nQ 39.703125 55.765625 41.0625 55.515625 \nz\n\" id=\"DejaVuSans-114\"/>\n      <path d=\"M 30.609375 48.390625 \nQ 23.390625 48.390625 19.1875 42.75 \nQ 14.984375 37.109375 14.984375 27.296875 \nQ 14.984375 17.484375 19.15625 11.84375 \nQ 23.34375 6.203125 30.609375 6.203125 \nQ 37.796875 6.203125 41.984375 11.859375 \nQ 46.1875 17.53125 46.1875 27.296875 \nQ 46.1875 37.015625 41.984375 42.703125 \nQ 37.796875 48.390625 30.609375 48.390625 \nz\nM 30.609375 56 \nQ 42.328125 56 49.015625 48.375 \nQ 55.71875 40.765625 55.71875 27.296875 \nQ 55.71875 13.875 49.015625 6.21875 \nQ 42.328125 -1.421875 30.609375 -1.421875 \nQ 18.84375 -1.421875 12.171875 6.21875 \nQ 5.515625 13.875 5.515625 27.296875 \nQ 5.515625 40.765625 12.171875 48.375 \nQ 18.84375 56 30.609375 56 \nz\n\" id=\"DejaVuSans-111\"/>\n      <path d=\"M 8.5 21.578125 \nL 8.5 54.6875 \nL 17.484375 54.6875 \nL 17.484375 21.921875 \nQ 17.484375 14.15625 20.5 10.265625 \nQ 23.53125 6.390625 29.59375 6.390625 \nQ 36.859375 6.390625 41.078125 11.03125 \nQ 45.3125 15.671875 45.3125 23.6875 \nL 45.3125 54.6875 \nL 54.296875 54.6875 \nL 54.296875 0 \nL 45.3125 0 \nL 45.3125 8.40625 \nQ 42.046875 3.421875 37.71875 1 \nQ 33.40625 -1.421875 27.6875 -1.421875 \nQ 18.265625 -1.421875 13.375 4.4375 \nQ 8.5 10.296875 8.5 21.578125 \nz\nM 31.109375 56 \nz\n\" id=\"DejaVuSans-117\"/>\n      <path d=\"M 18.109375 8.203125 \nL 18.109375 -20.796875 \nL 9.078125 -20.796875 \nL 9.078125 54.6875 \nL 18.109375 54.6875 \nL 18.109375 46.390625 \nQ 20.953125 51.265625 25.265625 53.625 \nQ 29.59375 56 35.59375 56 \nQ 45.5625 56 51.78125 48.09375 \nQ 58.015625 40.1875 58.015625 27.296875 \nQ 58.015625 14.40625 51.78125 6.484375 \nQ 45.5625 -1.421875 35.59375 -1.421875 \nQ 29.59375 -1.421875 25.265625 0.953125 \nQ 20.953125 3.328125 18.109375 8.203125 \nz\nM 48.6875 27.296875 \nQ 48.6875 37.203125 44.609375 42.84375 \nQ 40.53125 48.484375 33.40625 48.484375 \nQ 26.265625 48.484375 22.1875 42.84375 \nQ 18.109375 37.203125 18.109375 27.296875 \nQ 18.109375 17.390625 22.1875 11.75 \nQ 26.265625 6.109375 33.40625 6.109375 \nQ 40.53125 6.109375 44.609375 11.75 \nQ 48.6875 17.390625 48.6875 27.296875 \nz\n\" id=\"DejaVuSans-112\"/>\n      <path d=\"M 44.28125 53.078125 \nL 44.28125 44.578125 \nQ 40.484375 46.53125 36.375 47.5 \nQ 32.28125 48.484375 27.875 48.484375 \nQ 21.1875 48.484375 17.84375 46.4375 \nQ 14.5 44.390625 14.5 40.28125 \nQ 14.5 37.15625 16.890625 35.375 \nQ 19.28125 33.59375 26.515625 31.984375 \nL 29.59375 31.296875 \nQ 39.15625 29.25 43.1875 25.515625 \nQ 47.21875 21.78125 47.21875 15.09375 \nQ 47.21875 7.46875 41.1875 3.015625 \nQ 35.15625 -1.421875 24.609375 -1.421875 \nQ 20.21875 -1.421875 15.453125 -0.5625 \nQ 10.6875 0.296875 5.421875 2 \nL 5.421875 11.28125 \nQ 10.40625 8.6875 15.234375 7.390625 \nQ 20.0625 6.109375 24.8125 6.109375 \nQ 31.15625 6.109375 34.5625 8.28125 \nQ 37.984375 10.453125 37.984375 14.40625 \nQ 37.984375 18.0625 35.515625 20.015625 \nQ 33.0625 21.96875 24.703125 23.78125 \nL 21.578125 24.515625 \nQ 13.234375 26.265625 9.515625 29.90625 \nQ 5.8125 33.546875 5.8125 39.890625 \nQ 5.8125 47.609375 11.28125 51.796875 \nQ 16.75 56 26.8125 56 \nQ 31.78125 56 36.171875 55.265625 \nQ 40.578125 54.546875 44.28125 53.078125 \nz\n\" id=\"DejaVuSans-115\"/>\n      <path id=\"DejaVuSans-32\"/>\n      <path d=\"M 37.109375 75.984375 \nL 37.109375 68.5 \nL 28.515625 68.5 \nQ 23.6875 68.5 21.796875 66.546875 \nQ 19.921875 64.59375 19.921875 59.515625 \nL 19.921875 54.6875 \nL 34.71875 54.6875 \nL 34.71875 47.703125 \nL 19.921875 47.703125 \nL 19.921875 0 \nL 10.890625 0 \nL 10.890625 47.703125 \nL 2.296875 47.703125 \nL 2.296875 54.6875 \nL 10.890625 54.6875 \nL 10.890625 58.5 \nQ 10.890625 67.625 15.140625 71.796875 \nQ 19.390625 75.984375 28.609375 75.984375 \nz\n\" id=\"DejaVuSans-102\"/>\n      <path d=\"M 56.203125 29.59375 \nL 56.203125 25.203125 \nL 14.890625 25.203125 \nQ 15.484375 15.921875 20.484375 11.0625 \nQ 25.484375 6.203125 34.421875 6.203125 \nQ 39.59375 6.203125 44.453125 7.46875 \nQ 49.3125 8.734375 54.109375 11.28125 \nL 54.109375 2.78125 \nQ 49.265625 0.734375 44.1875 -0.34375 \nQ 39.109375 -1.421875 33.890625 -1.421875 \nQ 20.796875 -1.421875 13.15625 6.1875 \nQ 5.515625 13.8125 5.515625 26.8125 \nQ 5.515625 40.234375 12.765625 48.109375 \nQ 20.015625 56 32.328125 56 \nQ 43.359375 56 49.78125 48.890625 \nQ 56.203125 41.796875 56.203125 29.59375 \nz\nM 47.21875 32.234375 \nQ 47.125 39.59375 43.09375 43.984375 \nQ 39.0625 48.390625 32.421875 48.390625 \nQ 24.90625 48.390625 20.390625 44.140625 \nQ 15.875 39.890625 15.1875 32.171875 \nz\n\" id=\"DejaVuSans-101\"/>\n      <path d=\"M 54.890625 54.6875 \nL 35.109375 28.078125 \nL 55.90625 0 \nL 45.3125 0 \nL 29.390625 21.484375 \nL 13.484375 0 \nL 2.875 0 \nL 24.125 28.609375 \nL 4.6875 54.6875 \nL 15.28125 54.6875 \nL 29.78125 35.203125 \nL 44.28125 54.6875 \nz\n\" id=\"DejaVuSans-120\"/>\n      <path d=\"M 9.421875 54.6875 \nL 18.40625 54.6875 \nL 18.40625 0 \nL 9.421875 0 \nz\nM 9.421875 75.984375 \nL 18.40625 75.984375 \nL 18.40625 64.59375 \nL 9.421875 64.59375 \nz\n\" id=\"DejaVuSans-105\"/>\n      <path d=\"M 52 44.1875 \nQ 55.375 50.25 60.0625 53.125 \nQ 64.75 56 71.09375 56 \nQ 79.640625 56 84.28125 50.015625 \nQ 88.921875 44.046875 88.921875 33.015625 \nL 88.921875 0 \nL 79.890625 0 \nL 79.890625 32.71875 \nQ 79.890625 40.578125 77.09375 44.375 \nQ 74.3125 48.1875 68.609375 48.1875 \nQ 61.625 48.1875 57.5625 43.546875 \nQ 53.515625 38.921875 53.515625 30.90625 \nL 53.515625 0 \nL 44.484375 0 \nL 44.484375 32.71875 \nQ 44.484375 40.625 41.703125 44.40625 \nQ 38.921875 48.1875 33.109375 48.1875 \nQ 26.21875 48.1875 22.15625 43.53125 \nQ 18.109375 38.875 18.109375 30.90625 \nL 18.109375 0 \nL 9.078125 0 \nL 9.078125 54.6875 \nL 18.109375 54.6875 \nL 18.109375 46.1875 \nQ 21.1875 51.21875 25.484375 53.609375 \nQ 29.78125 56 35.6875 56 \nQ 41.65625 56 45.828125 52.96875 \nQ 50 49.953125 52 44.1875 \nz\n\" id=\"DejaVuSans-109\"/>\n      <path d=\"M 54.890625 33.015625 \nL 54.890625 0 \nL 45.90625 0 \nL 45.90625 32.71875 \nQ 45.90625 40.484375 42.875 44.328125 \nQ 39.84375 48.1875 33.796875 48.1875 \nQ 26.515625 48.1875 22.3125 43.546875 \nQ 18.109375 38.921875 18.109375 30.90625 \nL 18.109375 0 \nL 9.078125 0 \nL 9.078125 54.6875 \nL 18.109375 54.6875 \nL 18.109375 46.1875 \nQ 21.34375 51.125 25.703125 53.5625 \nQ 30.078125 56 35.796875 56 \nQ 45.21875 56 50.046875 50.171875 \nQ 54.890625 44.34375 54.890625 33.015625 \nz\n\" id=\"DejaVuSans-110\"/>\n      <path d=\"M 18.3125 70.21875 \nL 18.3125 54.6875 \nL 36.8125 54.6875 \nL 36.8125 47.703125 \nL 18.3125 47.703125 \nL 18.3125 18.015625 \nQ 18.3125 11.328125 20.140625 9.421875 \nQ 21.96875 7.515625 27.59375 7.515625 \nL 36.8125 7.515625 \nL 36.8125 0 \nL 27.59375 0 \nQ 17.1875 0 13.234375 3.875 \nQ 9.28125 7.765625 9.28125 18.015625 \nL 9.28125 47.703125 \nL 2.6875 47.703125 \nL 2.6875 54.6875 \nL 9.28125 54.6875 \nL 9.28125 70.21875 \nz\n\" id=\"DejaVuSans-116\"/>\n     </defs>\n     <g transform=\"translate(154.035156 280.096562)scale(0.1 -0.1)\">\n      <use xlink:href=\"#DejaVuSans-71\"/>\n      <use x=\"77.490234\" xlink:href=\"#DejaVuSans-114\"/>\n      <use x=\"116.353516\" xlink:href=\"#DejaVuSans-111\"/>\n      <use x=\"177.535156\" xlink:href=\"#DejaVuSans-117\"/>\n      <use x=\"240.914062\" xlink:href=\"#DejaVuSans-112\"/>\n      <use x=\"304.390625\" xlink:href=\"#DejaVuSans-115\"/>\n      <use x=\"356.490234\" xlink:href=\"#DejaVuSans-32\"/>\n      <use x=\"388.277344\" xlink:href=\"#DejaVuSans-111\"/>\n      <use x=\"449.458984\" xlink:href=\"#DejaVuSans-102\"/>\n      <use x=\"484.664062\" xlink:href=\"#DejaVuSans-32\"/>\n      <use x=\"516.451172\" xlink:href=\"#DejaVuSans-101\"/>\n      <use x=\"576.224609\" xlink:href=\"#DejaVuSans-120\"/>\n      <use x=\"635.404297\" xlink:href=\"#DejaVuSans-112\"/>\n      <use x=\"698.880859\" xlink:href=\"#DejaVuSans-101\"/>\n      <use x=\"760.404297\" xlink:href=\"#DejaVuSans-114\"/>\n      <use x=\"801.517578\" xlink:href=\"#DejaVuSans-105\"/>\n      <use x=\"829.300781\" xlink:href=\"#DejaVuSans-109\"/>\n      <use x=\"926.712891\" xlink:href=\"#DejaVuSans-101\"/>\n      <use x=\"988.236328\" xlink:href=\"#DejaVuSans-110\"/>\n      <use x=\"1051.615234\" xlink:href=\"#DejaVuSans-116\"/>\n      <use x=\"1090.824219\" xlink:href=\"#DejaVuSans-115\"/>\n     </g>\n    </g>\n   </g>\n   <g id=\"matplotlib.axis_2\">\n    <g id=\"ytick_1\">\n     <g id=\"line2d_7\">\n      <defs>\n       <path d=\"M 0 0 \nL -3.5 0 \n\" id=\"me8988fa19e\" style=\"stroke:#000000;stroke-width:0.8;\"/>\n      </defs>\n      <g>\n       <use style=\"stroke:#000000;stroke-width:0.8;\" x=\"43.78125\" xlink:href=\"#me8988fa19e\" y=\"240.700909\"/>\n      </g>\n     </g>\n     <g id=\"text_8\">\n      <!-- 0.0 -->\n      <defs>\n       <path d=\"M 10.6875 12.40625 \nL 21 12.40625 \nL 21 0 \nL 10.6875 0 \nz\n\" id=\"DejaVuSans-46\"/>\n      </defs>\n      <g transform=\"translate(20.878125 244.500128)scale(0.1 -0.1)\">\n       <use xlink:href=\"#DejaVuSans-48\"/>\n       <use x=\"63.623047\" xlink:href=\"#DejaVuSans-46\"/>\n       <use x=\"95.410156\" xlink:href=\"#DejaVuSans-48\"/>\n      </g>\n     </g>\n    </g>\n    <g id=\"ytick_2\">\n     <g id=\"line2d_8\">\n      <g>\n       <use style=\"stroke:#000000;stroke-width:0.8;\" x=\"43.78125\" xlink:href=\"#me8988fa19e\" y=\"196.224545\"/>\n      </g>\n     </g>\n     <g id=\"text_9\">\n      <!-- 0.1 -->\n      <g transform=\"translate(20.878125 200.023764)scale(0.1 -0.1)\">\n       <use xlink:href=\"#DejaVuSans-48\"/>\n       <use x=\"63.623047\" xlink:href=\"#DejaVuSans-46\"/>\n       <use x=\"95.410156\" xlink:href=\"#DejaVuSans-49\"/>\n      </g>\n     </g>\n    </g>\n    <g id=\"ytick_3\">\n     <g id=\"line2d_9\">\n      <g>\n       <use style=\"stroke:#000000;stroke-width:0.8;\" x=\"43.78125\" xlink:href=\"#me8988fa19e\" y=\"151.748182\"/>\n      </g>\n     </g>\n     <g id=\"text_10\">\n      <!-- 0.2 -->\n      <g transform=\"translate(20.878125 155.547401)scale(0.1 -0.1)\">\n       <use xlink:href=\"#DejaVuSans-48\"/>\n       <use x=\"63.623047\" xlink:href=\"#DejaVuSans-46\"/>\n       <use x=\"95.410156\" xlink:href=\"#DejaVuSans-50\"/>\n      </g>\n     </g>\n    </g>\n    <g id=\"ytick_4\">\n     <g id=\"line2d_10\">\n      <g>\n       <use style=\"stroke:#000000;stroke-width:0.8;\" x=\"43.78125\" xlink:href=\"#me8988fa19e\" y=\"107.271818\"/>\n      </g>\n     </g>\n     <g id=\"text_11\">\n      <!-- 0.3 -->\n      <g transform=\"translate(20.878125 111.071037)scale(0.1 -0.1)\">\n       <use xlink:href=\"#DejaVuSans-48\"/>\n       <use x=\"63.623047\" xlink:href=\"#DejaVuSans-46\"/>\n       <use x=\"95.410156\" xlink:href=\"#DejaVuSans-51\"/>\n      </g>\n     </g>\n    </g>\n    <g id=\"ytick_5\">\n     <g id=\"line2d_11\">\n      <g>\n       <use style=\"stroke:#000000;stroke-width:0.8;\" x=\"43.78125\" xlink:href=\"#me8988fa19e\" y=\"62.795455\"/>\n      </g>\n     </g>\n     <g id=\"text_12\">\n      <!-- 0.4 -->\n      <g transform=\"translate(20.878125 66.594673)scale(0.1 -0.1)\">\n       <use xlink:href=\"#DejaVuSans-48\"/>\n       <use x=\"63.623047\" xlink:href=\"#DejaVuSans-46\"/>\n       <use x=\"95.410156\" xlink:href=\"#DejaVuSans-52\"/>\n      </g>\n     </g>\n    </g>\n    <g id=\"ytick_6\">\n     <g id=\"line2d_12\">\n      <g>\n       <use style=\"stroke:#000000;stroke-width:0.8;\" x=\"43.78125\" xlink:href=\"#me8988fa19e\" y=\"18.319091\"/>\n      </g>\n     </g>\n     <g id=\"text_13\">\n      <!-- 0.5 -->\n      <g transform=\"translate(20.878125 22.11831)scale(0.1 -0.1)\">\n       <use xlink:href=\"#DejaVuSans-48\"/>\n       <use x=\"63.623047\" xlink:href=\"#DejaVuSans-46\"/>\n       <use x=\"95.410156\" xlink:href=\"#DejaVuSans-53\"/>\n      </g>\n     </g>\n    </g>\n    <g id=\"text_14\">\n     <!-- Estimated probability -->\n     <defs>\n      <path d=\"M 9.8125 72.90625 \nL 55.90625 72.90625 \nL 55.90625 64.59375 \nL 19.671875 64.59375 \nL 19.671875 43.015625 \nL 54.390625 43.015625 \nL 54.390625 34.71875 \nL 19.671875 34.71875 \nL 19.671875 8.296875 \nL 56.78125 8.296875 \nL 56.78125 0 \nL 9.8125 0 \nz\n\" id=\"DejaVuSans-69\"/>\n      <path d=\"M 34.28125 27.484375 \nQ 23.390625 27.484375 19.1875 25 \nQ 14.984375 22.515625 14.984375 16.5 \nQ 14.984375 11.71875 18.140625 8.90625 \nQ 21.296875 6.109375 26.703125 6.109375 \nQ 34.1875 6.109375 38.703125 11.40625 \nQ 43.21875 16.703125 43.21875 25.484375 \nL 43.21875 27.484375 \nz\nM 52.203125 31.203125 \nL 52.203125 0 \nL 43.21875 0 \nL 43.21875 8.296875 \nQ 40.140625 3.328125 35.546875 0.953125 \nQ 30.953125 -1.421875 24.3125 -1.421875 \nQ 15.921875 -1.421875 10.953125 3.296875 \nQ 6 8.015625 6 15.921875 \nQ 6 25.140625 12.171875 29.828125 \nQ 18.359375 34.515625 30.609375 34.515625 \nL 43.21875 34.515625 \nL 43.21875 35.40625 \nQ 43.21875 41.609375 39.140625 45 \nQ 35.0625 48.390625 27.6875 48.390625 \nQ 23 48.390625 18.546875 47.265625 \nQ 14.109375 46.140625 10.015625 43.890625 \nL 10.015625 52.203125 \nQ 14.9375 54.109375 19.578125 55.046875 \nQ 24.21875 56 28.609375 56 \nQ 40.484375 56 46.34375 49.84375 \nQ 52.203125 43.703125 52.203125 31.203125 \nz\n\" id=\"DejaVuSans-97\"/>\n      <path d=\"M 45.40625 46.390625 \nL 45.40625 75.984375 \nL 54.390625 75.984375 \nL 54.390625 0 \nL 45.40625 0 \nL 45.40625 8.203125 \nQ 42.578125 3.328125 38.25 0.953125 \nQ 33.9375 -1.421875 27.875 -1.421875 \nQ 17.96875 -1.421875 11.734375 6.484375 \nQ 5.515625 14.40625 5.515625 27.296875 \nQ 5.515625 40.1875 11.734375 48.09375 \nQ 17.96875 56 27.875 56 \nQ 33.9375 56 38.25 53.625 \nQ 42.578125 51.265625 45.40625 46.390625 \nz\nM 14.796875 27.296875 \nQ 14.796875 17.390625 18.875 11.75 \nQ 22.953125 6.109375 30.078125 6.109375 \nQ 37.203125 6.109375 41.296875 11.75 \nQ 45.40625 17.390625 45.40625 27.296875 \nQ 45.40625 37.203125 41.296875 42.84375 \nQ 37.203125 48.484375 30.078125 48.484375 \nQ 22.953125 48.484375 18.875 42.84375 \nQ 14.796875 37.203125 14.796875 27.296875 \nz\n\" id=\"DejaVuSans-100\"/>\n      <path d=\"M 48.6875 27.296875 \nQ 48.6875 37.203125 44.609375 42.84375 \nQ 40.53125 48.484375 33.40625 48.484375 \nQ 26.265625 48.484375 22.1875 42.84375 \nQ 18.109375 37.203125 18.109375 27.296875 \nQ 18.109375 17.390625 22.1875 11.75 \nQ 26.265625 6.109375 33.40625 6.109375 \nQ 40.53125 6.109375 44.609375 11.75 \nQ 48.6875 17.390625 48.6875 27.296875 \nz\nM 18.109375 46.390625 \nQ 20.953125 51.265625 25.265625 53.625 \nQ 29.59375 56 35.59375 56 \nQ 45.5625 56 51.78125 48.09375 \nQ 58.015625 40.1875 58.015625 27.296875 \nQ 58.015625 14.40625 51.78125 6.484375 \nQ 45.5625 -1.421875 35.59375 -1.421875 \nQ 29.59375 -1.421875 25.265625 0.953125 \nQ 20.953125 3.328125 18.109375 8.203125 \nL 18.109375 0 \nL 9.078125 0 \nL 9.078125 75.984375 \nL 18.109375 75.984375 \nz\n\" id=\"DejaVuSans-98\"/>\n      <path d=\"M 9.421875 75.984375 \nL 18.40625 75.984375 \nL 18.40625 0 \nL 9.421875 0 \nz\n\" id=\"DejaVuSans-108\"/>\n      <path d=\"M 32.171875 -5.078125 \nQ 28.375 -14.84375 24.75 -17.8125 \nQ 21.140625 -20.796875 15.09375 -20.796875 \nL 7.90625 -20.796875 \nL 7.90625 -13.28125 \nL 13.1875 -13.28125 \nQ 16.890625 -13.28125 18.9375 -11.515625 \nQ 21 -9.765625 23.484375 -3.21875 \nL 25.09375 0.875 \nL 2.984375 54.6875 \nL 12.5 54.6875 \nL 29.59375 11.921875 \nL 46.6875 54.6875 \nL 56.203125 54.6875 \nz\n\" id=\"DejaVuSans-121\"/>\n     </defs>\n     <g transform=\"translate(14.798438 183.033437)rotate(-90)scale(0.1 -0.1)\">\n      <use xlink:href=\"#DejaVuSans-69\"/>\n      <use x=\"63.183594\" xlink:href=\"#DejaVuSans-115\"/>\n      <use x=\"115.283203\" xlink:href=\"#DejaVuSans-116\"/>\n      <use x=\"154.492188\" xlink:href=\"#DejaVuSans-105\"/>\n      <use x=\"182.275391\" xlink:href=\"#DejaVuSans-109\"/>\n      <use x=\"279.6875\" xlink:href=\"#DejaVuSans-97\"/>\n      <use x=\"340.966797\" xlink:href=\"#DejaVuSans-116\"/>\n      <use x=\"380.175781\" xlink:href=\"#DejaVuSans-101\"/>\n      <use x=\"441.699219\" xlink:href=\"#DejaVuSans-100\"/>\n      <use x=\"505.175781\" xlink:href=\"#DejaVuSans-32\"/>\n      <use x=\"536.962891\" xlink:href=\"#DejaVuSans-112\"/>\n      <use x=\"600.439453\" xlink:href=\"#DejaVuSans-114\"/>\n      <use x=\"639.302734\" xlink:href=\"#DejaVuSans-111\"/>\n      <use x=\"700.484375\" xlink:href=\"#DejaVuSans-98\"/>\n      <use x=\"763.960938\" xlink:href=\"#DejaVuSans-97\"/>\n      <use x=\"825.240234\" xlink:href=\"#DejaVuSans-98\"/>\n      <use x=\"888.716797\" xlink:href=\"#DejaVuSans-105\"/>\n      <use x=\"916.5\" xlink:href=\"#DejaVuSans-108\"/>\n      <use x=\"944.283203\" xlink:href=\"#DejaVuSans-105\"/>\n      <use x=\"972.066406\" xlink:href=\"#DejaVuSans-116\"/>\n      <use x=\"1011.275391\" xlink:href=\"#DejaVuSans-121\"/>\n     </g>\n    </g>\n   </g>\n   <g id=\"line2d_13\">\n    <path clip-path=\"url(#p8ffbd17fff)\" d=\"M 58.999432 151.74818 \nL 60.829273 151.74818 \nL 61.43922 160.643451 \nL 62.049168 159.160907 \nL 62.659115 151.74818 \nL 63.269062 162.867274 \nL 63.879009 171.515452 \nL 64.488956 173.986361 \nL 65.708851 185.105455 \nL 66.318798 189.382028 \nL 67.538692 190.294362 \nL 68.148639 193.444771 \nL 69.368534 193.753636 \nL 69.978481 191.542823 \nL 70.588428 191.776909 \nL 71.198375 187.752857 \nL 71.808322 188.137934 \nL 72.418269 186.555772 \nL 73.028217 186.958638 \nL 73.638164 180.213051 \nL 74.858058 178.104547 \nL 75.468005 180.340127 \nL 76.6879 175.468912 \nL 77.297847 174.703728 \nL 77.907794 172.596476 \nL 79.737635 174.621739 \nL 80.95753 173.385333 \nL 81.567477 173.986361 \nL 82.177424 173.416151 \nL 83.397319 176.698338 \nL 84.007266 176.104283 \nL 84.617213 177.606531 \nL 85.22716 177.018844 \nL 86.447054 177.853875 \nL 87.057002 179.191045 \nL 87.666949 178.619318 \nL 88.886843 179.323529 \nL 89.49679 178.782831 \nL 90.106737 179.118249 \nL 91.326632 176.45727 \nL 91.936579 176.816679 \nL 92.546526 175.574806 \nL 93.156473 175.937085 \nL 93.76642 173.986361 \nL 94.376368 172.855611 \nL 94.986315 173.245089 \nL 95.596262 172.163561 \nL 96.206209 171.834281 \nL 96.816156 172.221426 \nL 97.426103 173.291422 \nL 98.036051 173.644236 \nL 98.645998 173.312477 \nL 99.865892 175.294489 \nL 101.085786 175.892495 \nL 101.695734 174.299576 \nL 102.305681 175.221819 \nL 102.915628 174.290994 \nL 103.525575 174.587395 \nL 104.135522 173.689854 \nL 104.745469 173.986361 \nL 105.355417 174.852787 \nL 107.185258 175.65423 \nL 107.795205 174.81 \nL 108.405152 174.528755 \nL 109.0151 172.646712 \nL 109.625047 171.868439 \nL 110.234994 170.061976 \nL 111.454888 169.640971 \nL 112.064835 169.943059 \nL 113.28473 169.538729 \nL 113.894677 168.854473 \nL 115.724518 169.72799 \nL 116.334466 169.538729 \nL 116.944413 168.426821 \nL 117.55436 169.17191 \nL 119.384201 169.983493 \nL 120.604096 169.625933 \nL 121.214043 169.884174 \nL 121.82399 169.709791 \nL 123.653832 170.453197 \nL 124.263779 169.868182 \nL 125.483673 169.538729 \nL 126.09362 169.779141 \nL 126.703567 168.823927 \nL 127.923462 170.084927 \nL 128.533409 170.31223 \nL 129.143356 170.152196 \nL 129.753303 170.375033 \nL 130.36325 170.217179 \nL 130.973198 170.435727 \nL 132.193092 170.126846 \nL 132.803039 170.70532 \nL 133.412986 170.551198 \nL 134.022933 170.758241 \nL 135.242828 171.868439 \nL 135.852775 171.359805 \nL 136.462722 171.554064 \nL 137.072669 171.055749 \nL 137.682616 171.249358 \nL 138.292564 170.760978 \nL 138.902511 170.953885 \nL 140.122405 170.667232 \nL 140.732352 171.185999 \nL 141.342299 171.370104 \nL 142.562194 171.085732 \nL 143.172141 171.266583 \nL 143.782088 171.762545 \nL 145.61193 172.275732 \nL 146.831824 171.992599 \nL 148.051718 172.322283 \nL 148.661665 172.784299 \nL 149.271613 172.941616 \nL 149.88156 172.207309 \nL 150.491507 172.366363 \nL 151.711401 171.515452 \nL 152.931296 171.834281 \nL 153.541243 171.705522 \nL 154.15119 171.295121 \nL 154.761137 171.171406 \nL 155.371084 171.608694 \nL 155.981031 170.928614 \nL 156.590979 171.085732 \nL 157.200926 170.966364 \nL 158.42082 171.27439 \nL 159.030767 170.886496 \nL 159.640714 171.039134 \nL 160.860609 171.868439 \nL 161.470556 170.959863 \nL 162.080503 170.846857 \nL 162.69045 170.214979 \nL 163.300397 169.849028 \nL 163.910345 170.001487 \nL 164.520292 169.640971 \nL 165.130239 169.538729 \nL 165.740186 169.690353 \nL 166.350133 169.337704 \nL 169.399869 170.076351 \nL 170.009816 169.247079 \nL 170.619763 169.393693 \nL 171.229711 169.298316 \nL 175.499341 170.280001 \nL 176.109288 169.95353 \nL 176.719235 169.859692 \nL 177.329182 169.538729 \nL 177.939129 169.674877 \nL 178.549077 169.35811 \nL 179.159024 168.819917 \nL 180.378918 168.204435 \nL 180.988865 168.122566 \nL 181.598812 168.261684 \nL 182.20876 167.961239 \nL 182.818707 167.881762 \nL 184.648548 168.292528 \nL 185.868443 168.985432 \nL 187.698284 169.370894 \nL 188.308231 169.079344 \nL 188.918178 168.998363 \nL 189.528126 169.124994 \nL 190.138073 168.63273 \nL 190.74802 168.759879 \nL 191.357967 168.477826 \nL 191.967914 168.604524 \nL 192.577861 168.932234 \nL 193.187809 168.653223 \nL 194.407703 168.900501 \nL 196.237544 168.672814 \nL 196.847492 168.402326 \nL 197.457439 168.329284 \nL 198.067386 168.645316 \nL 198.677333 168.378473 \nL 199.28728 168.499021 \nL 200.507175 167.973467 \nL 201.117122 168.284263 \nL 201.727069 168.213899 \nL 202.946963 168.450276 \nL 203.55691 168.380097 \nL 204.166858 167.938321 \nL 204.776805 168.056185 \nL 205.386752 167.988511 \nL 206.606646 168.220911 \nL 207.216593 168.153397 \nL 207.826541 168.267973 \nL 208.436488 168.020025 \nL 209.046435 168.13421 \nL 210.266329 168.002595 \nL 211.486224 168.227472 \nL 212.096171 168.515066 \nL 212.706118 168.448791 \nL 213.316065 168.73325 \nL 213.926012 168.666643 \nL 214.535959 168.948027 \nL 215.755854 169.15947 \nL 216.365801 169.435691 \nL 216.975748 169.367667 \nL 217.585695 169.470565 \nL 218.195642 169.233162 \nL 218.80559 169.166681 \nL 219.415537 168.932234 \nL 220.025484 169.035218 \nL 220.635431 169.304639 \nL 222.465273 169.108843 \nL 223.07522 168.71509 \nL 224.295114 168.590334 \nL 224.905061 168.691556 \nL 225.515008 168.467401 \nL 226.124956 168.730068 \nL 226.734903 168.668539 \nL 227.34485 168.286325 \nL 227.954797 168.066848 \nL 228.564744 168.327183 \nL 229.174691 168.267973 \nL 229.784639 168.525743 \nL 230.394586 168.308527 \nL 231.004533 168.40717 \nL 231.61448 168.035302 \nL 232.224427 168.13421 \nL 232.834374 168.076916 \nL 233.444322 168.32996 \nL 235.88411 168.713394 \nL 237.104005 168.597591 \nL 237.713952 168.691556 \nL 238.323899 168.332591 \nL 238.933846 168.126304 \nL 239.543793 168.220911 \nL 240.15374 168.01638 \nL 240.763688 167.961975 \nL 241.373635 168.204435 \nL 241.983582 168.297525 \nL 242.593529 167.948183 \nL 243.203476 167.747927 \nL 245.033318 168.02711 \nL 245.643265 167.974083 \nL 246.253212 168.065808 \nL 247.473106 168.534425 \nL 248.693001 168.426821 \nL 249.302948 168.657723 \nL 249.912895 168.745517 \nL 250.522842 168.691556 \nL 251.132789 168.919436 \nL 251.742737 169.005573 \nL 253.572578 168.843783 \nL 254.182525 168.929086 \nL 254.792472 168.875728 \nL 255.40242 169.098093 \nL 256.012367 169.181818 \nL 257.232261 169.074864 \nL 259.062103 169.322427 \nL 259.67205 169.269175 \nL 260.281997 168.947503 \nL 260.891944 169.029658 \nL 261.501891 169.244892 \nL 262.111838 169.325668 \nL 262.721786 169.273198 \nL 263.331733 169.353411 \nL 263.94168 169.169193 \nL 265.161574 169.32881 \nL 265.771521 169.146288 \nL 267.601363 168.994121 \nL 270.651099 168.107303 \nL 271.261046 168.060433 \nL 271.870993 168.140897 \nL 272.48094 167.967482 \nL 273.090887 168.174114 \nL 273.700835 168.253571 \nL 274.920729 168.661726 \nL 275.530676 168.739155 \nL 276.75057 168.395758 \nL 277.360518 168.597167 \nL 278.580412 168.750229 \nL 279.190359 168.70326 \nL 279.800306 168.901601 \nL 280.410253 168.854473 \nL 281.020201 169.051316 \nL 281.630148 168.760999 \nL 282.850042 169.151975 \nL 283.459989 169.225341 \nL 284.069936 169.178107 \nL 284.679884 169.370894 \nL 285.289831 169.323521 \nL 285.899778 169.395641 \nL 286.509725 169.229536 \nL 287.729619 169.136546 \nL 288.339567 169.208401 \nL 288.949514 169.39753 \nL 289.559461 169.468318 \nL 290.779355 169.842242 \nL 291.389302 169.794875 \nL 292.609197 169.932528 \nL 293.219144 169.654253 \nL 293.829091 169.60786 \nL 294.439038 169.67664 \nL 295.048985 169.515804 \nL 295.658933 169.584459 \nL 296.878827 169.493224 \nL 297.488774 169.561421 \nL 298.708668 169.922534 \nL 299.318616 169.876526 \nL 299.928563 169.718427 \nL 300.53851 169.785199 \nL 301.148457 169.73988 \nL 303.588246 170.003402 \nL 304.80814 169.913037 \nL 306.637982 170.325532 \nL 307.247929 170.38901 \nL 309.687717 169.776225 \nL 310.297665 169.84026 \nL 310.907612 169.689133 \nL 312.127506 169.709791 \nL 313.3474 169.73025 \nL 315.177242 169.919048 \nL 315.787189 169.770592 \nL 316.397136 169.833135 \nL 317.007083 169.580688 \nL 317.617031 169.643377 \nL 318.226978 169.392559 \nL 323.106555 169.169796 \nL 323.716502 169.334238 \nL 324.936397 169.253753 \nL 325.546344 169.416876 \nL 328.59608 169.217454 \nL 329.815974 169.538729 \nL 330.425921 169.29939 \nL 331.035868 169.459126 \nL 331.645815 169.22104 \nL 332.86571 169.439893 \nL 333.475657 169.203431 \nL 335.305498 169.284014 \nL 335.915446 169.147727 \nL 336.525393 169.304639 \nL 337.745287 168.936647 \nL 338.355234 168.996096 \nL 340.185076 168.595292 \nL 340.795023 168.751025 \nL 342.624865 168.737007 \nL 344.454706 168.818002 \nL 345.6746 168.745517 \nL 346.894495 168.955741 \nL 348.724336 168.660414 \nL 349.944231 168.496602 \nL 350.554178 168.275933 \nL 351.164125 168.426821 \nL 354.213861 168.163172 \nL 354.823808 168.03788 \nL 356.653649 168.392709 \nL 357.263597 168.358743 \nL 358.483491 168.562419 \nL 359.093438 168.347881 \nL 359.703385 168.314279 \nL 360.313332 168.101106 \nL 362.143174 168.359837 \nL 362.753121 168.148287 \nL 363.363068 168.115481 \nL 363.363068 168.115481 \n\" style=\"fill:none;stroke:#1f77b4;stroke-linecap:square;stroke-width:1.5;\"/>\n   </g>\n   <g id=\"line2d_14\">\n    <path clip-path=\"url(#p8ffbd17fff)\" d=\"M 58.999432 18.319091 \nL 59.609379 107.271813 \nL 60.829273 162.867274 \nL 61.43922 142.85291 \nL 62.049168 151.74818 \nL 62.659115 145.394415 \nL 63.269062 146.188634 \nL 63.879009 136.922727 \nL 65.098903 123.445047 \nL 65.708851 125.80364 \nL 66.318798 134.641888 \nL 66.928745 132.686883 \nL 67.538692 136.922727 \nL 68.148639 137.849317 \nL 69.368534 144.335454 \nL 70.588428 149.524364 \nL 73.028217 149.895 \nL 73.638164 151.74818 \nL 74.248111 148.326922 \nL 74.858058 150.10091 \nL 75.468005 148.571298 \nL 76.077952 150.214512 \nL 76.6879 150.265636 \nL 77.907794 155.917842 \nL 78.517741 155.791489 \nL 79.127688 154.364437 \nL 79.737635 154.289686 \nL 80.347583 155.454547 \nL 80.95753 155.354373 \nL 81.567477 154.089045 \nL 82.177424 155.169439 \nL 82.787371 157.307727 \nL 84.007266 157.042985 \nL 84.617213 157.954186 \nL 85.22716 159.834791 \nL 86.447054 159.483202 \nL 87.057002 161.211235 \nL 87.666949 161.940684 \nL 88.276896 161.732673 \nL 88.886843 162.42251 \nL 89.49679 162.213207 \nL 90.106737 161.156645 \nL 91.326632 160.808184 \nL 91.936579 161.452118 \nL 92.546526 162.867274 \nL 93.156473 162.6722 \nL 93.76642 163.250688 \nL 94.986315 162.867274 \nL 95.596262 164.143232 \nL 96.206209 163.225954 \nL 96.816156 164.455712 \nL 98.036051 162.696212 \nL 99.865892 164.175402 \nL 100.475839 162.061543 \nL 101.085786 161.278829 \nL 101.695734 162.397451 \nL 102.305681 162.249545 \nL 103.525575 163.167791 \nL 104.745469 162.867274 \nL 105.355417 162.145255 \nL 105.965364 162.582166 \nL 107.185258 162.31132 \nL 107.795205 162.729999 \nL 108.405152 161.511289 \nL 109.0151 162.465376 \nL 110.234994 161.166705 \nL 111.454888 162.995079 \nL 112.674783 163.741805 \nL 113.28473 163.608546 \nL 113.894677 163.966961 \nL 114.504624 163.834153 \nL 115.114571 162.747714 \nL 115.724518 162.157542 \nL 116.334466 162.984316 \nL 118.164307 164.001875 \nL 118.774254 163.428842 \nL 119.994149 163.197542 \nL 120.604096 163.521335 \nL 121.214043 162.975223 \nL 122.433937 163.608546 \nL 123.043884 162.657481 \nL 123.653832 162.555523 \nL 124.873726 163.173305 \nL 125.483673 163.8781 \nL 126.09362 162.967442 \nL 126.703567 163.661493 \nL 128.533409 163.35071 \nL 130.36325 164.18649 \nL 130.973198 163.70821 \nL 132.193092 164.245674 \nL 132.803039 164.143232 \nL 133.412986 163.680865 \nL 134.632881 163.48994 \nL 135.242828 163.749738 \nL 135.852775 163.655237 \nL 137.072669 164.160192 \nL 137.682616 163.038336 \nL 138.292564 162.952152 \nL 138.902511 163.204216 \nL 140.122405 163.033227 \nL 141.342299 162.213207 \nL 141.952247 162.461466 \nL 142.562194 162.061543 \nL 143.172141 161.987342 \nL 143.782088 161.596518 \nL 144.392035 160.580364 \nL 145.001982 161.144596 \nL 146.221877 161.014094 \nL 146.831824 161.256919 \nL 147.441771 161.19179 \nL 148.661665 162.26624 \nL 149.271613 161.897148 \nL 149.88156 162.126002 \nL 150.491507 162.646366 \nL 151.101454 162.574664 \nL 152.321348 163.589293 \nL 152.931296 163.225954 \nL 153.541243 163.152376 \nL 154.15119 162.796453 \nL 154.761137 162.726526 \nL 155.371084 163.216927 \nL 155.981031 162.867274 \nL 156.590979 163.35071 \nL 157.200926 163.553637 \nL 158.42082 163.409668 \nL 159.030767 163.8781 \nL 161.470556 163.591003 \nL 162.080503 162.998088 \nL 165.130239 163.94741 \nL 165.740186 163.625393 \nL 166.350133 163.55829 \nL 166.96008 163.991675 \nL 168.179975 163.855639 \nL 168.789922 163.051565 \nL 169.399869 163.233834 \nL 170.009816 163.171072 \nL 170.619763 163.35071 \nL 171.839658 164.182434 \nL 172.449605 164.11594 \nL 173.059552 163.576999 \nL 173.669499 163.514416 \nL 174.279446 163.920661 \nL 175.499341 163.793864 \nL 176.109288 164.192349 \nL 176.719235 163.669678 \nL 177.329182 164.064717 \nL 177.939129 164.001875 \nL 178.549077 163.713903 \nL 179.159024 164.102725 \nL 180.378918 163.979182 \nL 180.988865 163.697056 \nL 181.598812 163.637906 \nL 182.20876 163.79843 \nL 183.428654 163.680865 \nL 184.038601 163.838845 \nL 185.258495 163.294933 \nL 186.47839 163.184963 \nL 187.088337 163.552338 \nL 187.698284 163.496654 \nL 188.308231 163.650306 \nL 189.528126 163.125859 \nL 190.74802 163.020992 \nL 191.357967 163.173305 \nL 191.967914 163.527313 \nL 193.187809 163.42071 \nL 193.797756 162.967442 \nL 194.407703 162.917133 \nL 195.01765 163.065827 \nL 195.627597 163.410874 \nL 196.237544 163.162469 \nL 197.457439 163.452488 \nL 198.677333 163.35071 \nL 199.28728 163.107945 \nL 199.897227 163.058981 \nL 200.507175 163.20132 \nL 201.727069 163.103849 \nL 202.337016 163.244193 \nL 203.55691 162.773833 \nL 204.776805 163.423228 \nL 205.386752 163.374781 \nL 205.996699 163.510525 \nL 207.216593 163.414115 \nL 207.826541 163.184963 \nL 210.266329 163.715719 \nL 211.486224 163.620356 \nL 212.096171 163.749738 \nL 212.706118 163.702305 \nL 213.926012 163.957378 \nL 214.535959 164.257159 \nL 215.145907 164.208487 \nL 215.755854 163.987804 \nL 216.365801 164.283994 \nL 216.975748 163.893648 \nL 218.195642 164.140449 \nL 218.80559 164.093334 \nL 219.415537 164.215041 \nL 220.025484 164.167999 \nL 220.635431 163.786899 \nL 221.245378 163.741805 \nL 221.855325 163.863015 \nL 223.07522 163.773272 \nL 223.685167 163.893018 \nL 224.295114 163.848369 \nL 224.905061 163.641127 \nL 225.515008 163.922371 \nL 226.124956 164.03983 \nL 226.734903 163.834153 \nL 227.34485 163.308824 \nL 229.174691 163.184963 \nL 230.394586 163.419285 \nL 231.004533 163.220884 \nL 231.61448 163.493698 \nL 232.224427 163.296431 \nL 232.834374 163.25605 \nL 233.444322 163.370924 \nL 236.494057 163.171907 \nL 237.104005 163.43651 \nL 238.323899 163.055733 \nL 240.763688 163.499464 \nL 241.983582 163.421379 \nL 242.593529 163.677273 \nL 243.203476 163.784692 \nL 243.813423 164.037703 \nL 244.423371 163.851583 \nL 245.643265 163.772736 \nL 247.473106 164.086786 \nL 248.693001 164.577903 \nL 249.302948 164.679012 \nL 249.912895 164.921115 \nL 251.132789 164.837748 \nL 251.742737 164.936756 \nL 252.352684 164.895281 \nL 252.962631 164.714648 \nL 255.40242 165.104862 \nL 256.012367 165.338183 \nL 256.622314 165.159519 \nL 259.062103 164.996463 \nL 259.67205 165.225867 \nL 260.891944 165.14468 \nL 261.501891 165.371572 \nL 262.111838 165.463946 \nL 262.721786 165.423002 \nL 263.331733 165.117567 \nL 264.551627 165.038455 \nL 265.161574 164.736857 \nL 265.771521 164.829463 \nL 266.381469 164.791103 \nL 266.991416 164.362821 \nL 267.601363 164.585386 \nL 268.21131 164.548066 \nL 268.821257 164.639884 \nL 269.431204 164.474077 \nL 270.041152 164.4374 \nL 271.261046 164.874444 \nL 271.870993 164.964015 \nL 272.48094 164.926364 \nL 273.700835 164.599708 \nL 274.310782 164.563402 \nL 274.920729 164.402023 \nL 275.530676 163.991675 \nL 276.140623 163.832794 \nL 276.75057 163.79904 \nL 277.360518 164.013254 \nL 277.970465 164.102725 \nL 278.580412 164.314911 \nL 279.190359 164.034469 \nL 279.800306 163.8781 \nL 281.020201 163.811632 \nL 282.240095 163.988268 \nL 282.850042 163.713294 \nL 283.459989 163.921927 \nL 284.069936 164.009231 \nL 285.289831 163.584634 \nL 285.899778 163.791379 \nL 286.509725 163.521335 \nL 287.119672 163.608546 \nL 287.729619 163.576999 \nL 288.339567 163.663601 \nL 290.779355 163.538507 \nL 291.389302 163.274779 \nL 291.99925 163.476937 \nL 292.609197 163.330569 \nL 293.219144 163.300487 \nL 294.439038 163.585562 \nL 295.048985 163.669678 \nL 295.658933 163.639033 \nL 296.26888 163.380461 \nL 296.878827 163.35071 \nL 297.488774 163.54803 \nL 298.098721 163.291666 \nL 298.708668 163.262366 \nL 299.318616 163.458413 \nL 299.928563 163.428842 \nL 300.53851 163.511453 \nL 301.758404 163.341021 \nL 302.368351 163.534418 \nL 302.978299 163.394113 \nL 303.588246 163.033227 \nL 304.80814 163.087453 \nL 306.637982 162.676038 \nL 309.687717 162.975223 \nL 310.907612 163.028422 \nL 315.787189 163.763126 \nL 316.397136 163.629575 \nL 318.226978 163.754709 \nL 318.836925 163.726595 \nL 320.056819 163.981773 \nL 320.666766 163.849893 \nL 321.276714 163.925002 \nL 324.326449 163.275316 \nL 324.936397 163.35071 \nL 325.546344 163.22268 \nL 327.376185 163.346329 \nL 329.815974 163.342021 \nL 332.255763 163.634963 \nL 332.86571 163.50971 \nL 334.085604 163.556063 \nL 335.915446 163.575965 \nL 338.355234 163.763583 \nL 340.795023 163.659777 \nL 342.014917 163.991138 \nL 345.6746 163.929608 \nL 346.284548 163.526882 \nL 348.724336 163.801651 \nL 349.334283 163.683139 \nL 350.554178 163.726158 \nL 351.164125 163.608546 \nL 352.993966 163.811129 \nL 353.603914 163.694312 \nL 354.823808 163.736669 \nL 356.043702 163.414115 \nL 357.263597 163.275727 \nL 359.093438 163.386015 \nL 359.703385 163.272419 \nL 360.313332 163.428842 \nL 362.753121 163.424341 \nL 363.363068 163.48994 \nL 363.363068 163.48994 \n\" style=\"fill:none;stroke:#ff7f0e;stroke-linecap:square;stroke-width:1.5;\"/>\n   </g>\n   <g id=\"line2d_15\">\n    <path clip-path=\"url(#p8ffbd17fff)\" d=\"M 58.999432 196.224545 \nL 59.609379 151.74818 \nL 60.829273 151.74818 \nL 61.43922 160.643451 \nL 62.049168 166.573634 \nL 62.659115 164.455712 \nL 63.269062 157.307727 \nL 63.879009 156.689998 \nL 65.098903 163.8781 \nL 66.318798 168.854473 \nL 66.928745 167.632595 \nL 68.148639 160.087497 \nL 68.758586 159.59695 \nL 69.978481 163.452488 \nL 70.588428 167.314906 \nL 71.198375 166.573634 \nL 71.808322 167.921408 \nL 72.418269 171.085732 \nL 73.028217 168.426821 \nL 74.248111 173.986361 \nL 74.858058 171.515452 \nL 75.468005 173.986361 \nL 76.077952 171.685865 \nL 77.297847 173.269001 \nL 77.907794 172.596476 \nL 78.517741 174.660245 \nL 79.127688 173.986361 \nL 79.737635 170.809478 \nL 80.347583 170.280001 \nL 80.95753 172.183265 \nL 82.177424 168.854473 \nL 82.787371 168.426821 \nL 84.007266 169.750517 \nL 84.617213 168.297525 \nL 85.22716 168.932234 \nL 85.837107 168.550364 \nL 86.447054 169.151975 \nL 87.666949 168.426821 \nL 88.276896 169.901803 \nL 88.886843 170.428251 \nL 89.49679 169.189891 \nL 90.106737 170.565102 \nL 91.936579 171.96471 \nL 92.546526 173.192142 \nL 93.156473 173.59622 \nL 94.376368 175.870955 \nL 94.986315 175.468912 \nL 95.596262 175.809167 \nL 96.206209 175.421088 \nL 96.816156 175.751296 \nL 97.426103 173.291422 \nL 98.036051 172.959987 \nL 99.255945 173.654449 \nL 100.475839 173.019489 \nL 101.695734 174.926007 \nL 102.305681 175.221819 \nL 103.525575 173.385333 \nL 104.135522 173.689854 \nL 104.745469 173.401147 \nL 105.355417 173.697555 \nL 105.965364 174.556571 \nL 106.575311 173.141879 \nL 107.185258 172.318499 \nL 107.795205 172.613635 \nL 108.405152 173.443967 \nL 109.625047 173.986361 \nL 110.234994 174.771242 \nL 110.844941 173.986361 \nL 112.674783 174.735964 \nL 113.28473 175.468912 \nL 113.894677 175.69699 \nL 114.504624 176.403554 \nL 115.114571 176.138448 \nL 115.724518 176.352125 \nL 116.334466 175.624969 \nL 116.944413 175.839548 \nL 117.55436 176.508222 \nL 118.164307 175.347887 \nL 119.384201 175.765419 \nL 119.994149 175.527625 \nL 122.433937 176.316078 \nL 124.263779 175.633638 \nL 124.873726 175.822542 \nL 125.483673 174.795028 \nL 126.09362 174.98808 \nL 127.313515 174.576758 \nL 128.533409 174.95324 \nL 129.143356 174.369781 \nL 130.36325 173.986361 \nL 130.973198 174.173236 \nL 131.583145 174.72764 \nL 132.193092 173.802574 \nL 132.803039 173.986361 \nL 133.412986 173.443967 \nL 134.022933 173.986361 \nL 135.242828 174.339348 \nL 135.852775 174.161466 \nL 136.462722 172.943949 \nL 137.072669 173.124416 \nL 137.682616 172.617863 \nL 138.292564 172.798064 \nL 138.902511 172.638594 \nL 141.952247 170.252947 \nL 142.562194 169.47427 \nL 143.782088 169.856418 \nL 145.001982 169.601372 \nL 145.61193 169.165502 \nL 146.221877 169.662272 \nL 148.051718 169.29668 \nL 149.271613 170.255128 \nL 149.88156 170.428251 \nL 150.491507 170.304542 \nL 151.101454 170.767678 \nL 151.711401 170.643367 \nL 152.931296 171.547337 \nL 154.15119 171.295121 \nL 154.761137 171.734398 \nL 155.371084 171.608694 \nL 155.981031 171.762545 \nL 156.590979 170.809478 \nL 157.200926 170.966364 \nL 157.810873 170.5756 \nL 159.030767 170.347389 \nL 159.640714 170.503275 \nL 160.250662 170.923617 \nL 160.860609 171.07422 \nL 161.470556 170.959863 \nL 162.080503 171.370104 \nL 162.69045 170.99526 \nL 163.300397 171.141946 \nL 163.910345 170.772755 \nL 164.520292 170.663415 \nL 165.740186 170.953885 \nL 166.350133 171.347935 \nL 168.789922 170.914789 \nL 169.399869 170.320727 \nL 170.009816 170.462277 \nL 170.619763 170.360571 \nL 171.229711 170.500378 \nL 172.449605 170.299817 \nL 173.059552 170.674297 \nL 173.669499 170.809478 \nL 174.279446 170.475075 \nL 176.109288 170.183982 \nL 176.719235 170.547467 \nL 177.329182 169.994893 \nL 177.939129 169.901803 \nL 178.549077 170.261185 \nL 179.159024 170.167685 \nL 180.988865 170.556593 \nL 181.598812 170.463483 \nL 182.20876 170.809478 \nL 182.818707 170.498019 \nL 183.428654 170.40656 \nL 184.038601 170.531892 \nL 184.648548 170.870869 \nL 185.258495 170.992761 \nL 185.868443 170.687877 \nL 186.47839 171.021273 \nL 187.088337 170.929933 \nL 187.698284 171.049248 \nL 188.308231 170.541012 \nL 188.918178 170.661029 \nL 189.528126 170.986797 \nL 190.74802 171.219402 \nL 191.357967 171.130083 \nL 192.577861 170.145224 \nL 193.187809 170.464477 \nL 194.407703 170.695512 \nL 195.01765 170.610925 \nL 195.627597 170.724765 \nL 196.847492 170.557567 \nL 198.067386 170.781735 \nL 198.677333 170.698978 \nL 199.28728 170.809478 \nL 199.897227 171.110737 \nL 200.507175 170.645865 \nL 201.117122 170.755172 \nL 202.946963 169.951589 \nL 203.55691 170.061976 \nL 204.166858 169.799256 \nL 204.776805 169.909365 \nL 205.386752 169.834004 \nL 205.996699 169.943059 \nL 206.606646 169.68515 \nL 207.216593 169.793921 \nL 207.826541 170.083337 \nL 208.436488 170.189602 \nL 209.046435 169.574743 \nL 209.656382 169.502861 \nL 210.266329 169.610173 \nL 211.486224 169.113456 \nL 212.096171 169.22104 \nL 212.706118 169.50357 \nL 213.316065 168.73325 \nL 214.535959 168.600554 \nL 215.145907 168.188861 \nL 215.755854 167.95275 \nL 216.975748 167.8281 \nL 218.80559 168.152012 \nL 219.415537 168.426821 \nL 220.025484 168.196045 \nL 221.245378 168.739155 \nL 221.855325 168.509797 \nL 223.07522 168.385638 \nL 223.685167 168.488364 \nL 224.295114 168.753848 \nL 224.905061 168.528639 \nL 225.515008 168.792042 \nL 226.734903 168.668539 \nL 227.954797 168.86678 \nL 228.564744 169.124252 \nL 229.174691 169.062192 \nL 229.784639 169.317139 \nL 231.61448 169.601372 \nL 232.224427 169.850844 \nL 232.834374 169.787545 \nL 233.444322 169.87966 \nL 234.054269 169.816706 \nL 235.88411 170.08895 \nL 236.494057 170.026141 \nL 237.104005 169.811961 \nL 237.713952 169.901803 \nL 238.323899 170.141798 \nL 238.933846 170.229917 \nL 239.543793 169.868182 \nL 240.15374 169.956626 \nL 240.763688 169.598231 \nL 241.983582 169.184098 \nL 242.593529 169.126366 \nL 243.203476 169.215798 \nL 245.033318 169.044543 \nL 245.643265 169.277957 \nL 246.253212 169.22104 \nL 246.863159 169.452366 \nL 247.473106 169.538729 \nL 248.083054 169.48152 \nL 248.693001 169.56724 \nL 249.302948 169.51031 \nL 249.912895 169.312095 \nL 251.132789 169.482428 \nL 251.742737 169.286182 \nL 252.352684 169.370894 \nL 254.792472 169.151975 \nL 255.40242 169.235793 \nL 256.012367 169.044543 \nL 256.622314 169.128175 \nL 257.232261 168.93843 \nL 257.842208 169.157893 \nL 258.452155 169.104814 \nL 259.062103 169.18724 \nL 259.67205 168.595292 \nL 261.501891 169.244892 \nL 262.111838 169.059342 \nL 262.721786 169.273198 \nL 263.94168 169.433146 \nL 265.161574 169.066414 \nL 266.991416 169.304639 \nL 267.601363 169.123788 \nL 268.21131 169.07328 \nL 269.431204 169.230219 \nL 270.041152 168.923492 \nL 270.651099 168.746332 \nL 272.48094 168.981191 \nL 273.700835 168.883555 \nL 274.310782 168.583866 \nL 274.920729 168.536446 \nL 276.140623 168.940723 \nL 276.75057 169.01694 \nL 277.360518 168.721055 \nL 277.970465 168.673907 \nL 278.580412 168.257415 \nL 279.190359 168.334672 \nL 279.800306 168.288976 \nL 280.410253 168.365722 \nL 281.020201 168.198345 \nL 281.630148 168.274919 \nL 282.850042 168.185096 \nL 283.459989 168.261087 \nL 284.679884 168.172067 \nL 285.289831 168.367041 \nL 285.899778 167.964765 \nL 287.119672 168.115481 \nL 287.729619 168.308527 \nL 288.949514 167.75026 \nL 289.559461 167.825389 \nL 290.169408 167.666037 \nL 290.779355 167.274054 \nL 291.389302 167.34984 \nL 292.609197 167.731875 \nL 293.219144 167.69036 \nL 293.829091 167.879502 \nL 294.439038 167.837822 \nL 295.048985 168.025612 \nL 295.658933 167.983773 \nL 298.098721 168.271207 \nL 299.928563 167.809092 \nL 302.978299 167.497918 \nL 303.588246 167.348103 \nL 304.80814 167.491052 \nL 306.028034 167.303958 \nL 307.857876 167.298596 \nL 310.907612 167.540513 \nL 312.127506 167.571503 \nL 313.957348 167.564358 \nL 315.177242 167.594865 \nL 316.397136 167.414796 \nL 317.617031 167.759671 \nL 318.226978 167.722086 \nL 318.836925 167.892996 \nL 319.446872 167.647441 \nL 322.496608 167.566565 \nL 324.326449 167.763753 \nL 326.156291 167.451684 \nL 326.766238 167.415989 \nL 327.986132 167.64697 \nL 328.59608 167.510682 \nL 330.425921 167.703827 \nL 331.035868 167.270137 \nL 331.645815 167.235489 \nL 332.255763 167.399108 \nL 332.86571 167.166656 \nL 333.475657 167.329699 \nL 335.305498 166.932844 \nL 337.13534 167.319777 \nL 338.355234 167.348826 \nL 340.185076 167.44006 \nL 341.40497 167.37242 \nL 342.624865 167.59169 \nL 345.064653 167.456854 \nL 345.6746 167.612361 \nL 346.894495 167.451254 \nL 347.504442 167.511955 \nL 348.114389 167.385138 \nL 349.944231 167.473091 \nL 352.384019 167.342589 \nL 352.993966 167.034053 \nL 357.873544 167.419077 \nL 358.483491 167.387225 \nL 359.093438 167.53594 \nL 359.703385 167.323913 \nL 362.753121 167.524368 \nL 363.363068 167.492815 \nL 363.363068 167.492815 \n\" style=\"fill:none;stroke:#2ca02c;stroke-linecap:square;stroke-width:1.5;\"/>\n   </g>\n   <g id=\"line2d_16\">\n    <path clip-path=\"url(#p8ffbd17fff)\" d=\"M 58.999432 240.700909 \nL 59.609379 218.462727 \nL 60.219326 181.399088 \nL 60.829273 185.105455 \nL 61.43922 178.434 \nL 62.049168 188.811818 \nL 62.659115 196.224545 \nL 63.269062 190.665001 \nL 63.879009 186.340909 \nL 64.488956 182.881638 \nL 65.098903 176.008019 \nL 66.318798 151.74818 \nL 66.928745 154.925063 \nL 67.538692 154.713275 \nL 68.758586 159.59695 \nL 69.368534 154.219089 \nL 69.978481 154.089045 \nL 70.588428 151.74818 \nL 71.198375 155.984024 \nL 72.418269 155.615695 \nL 73.028217 157.307727 \nL 73.638164 160.643451 \nL 74.248111 162.011956 \nL 74.858058 159.984546 \nL 75.468005 161.278829 \nL 76.077952 160.950185 \nL 76.6879 162.126002 \nL 77.297847 161.791234 \nL 77.907794 164.257159 \nL 78.517741 163.8781 \nL 79.127688 166.137591 \nL 80.347583 167.809092 \nL 80.95753 164.970887 \nL 81.567477 165.793346 \nL 82.787371 165.09109 \nL 83.397319 166.93523 \nL 84.007266 165.514673 \nL 84.617213 163.125859 \nL 85.22716 164.888925 \nL 85.837107 162.620181 \nL 86.447054 162.383831 \nL 87.666949 163.793864 \nL 88.276896 163.54803 \nL 88.886843 162.42251 \nL 89.49679 163.957378 \nL 90.106737 164.577903 \nL 90.716685 164.335834 \nL 91.326632 164.926364 \nL 91.936579 163.069439 \nL 92.546526 162.867274 \nL 93.156473 163.452488 \nL 93.76642 163.250688 \nL 94.376368 163.809571 \nL 94.986315 163.608546 \nL 95.596262 164.872356 \nL 96.206209 164.660674 \nL 96.816156 163.043764 \nL 98.036051 164.064717 \nL 99.255945 163.697056 \nL 99.865892 162.867274 \nL 101.085786 165.09109 \nL 102.305681 165.955912 \nL 102.915628 166.979813 \nL 105.355417 166.188557 \nL 105.965364 164.863005 \nL 106.575311 165.259985 \nL 107.185258 166.202998 \nL 107.795205 166.573634 \nL 109.0151 168.359837 \nL 109.625047 168.691556 \nL 110.234994 169.538729 \nL 110.844941 169.849028 \nL 111.454888 168.618528 \nL 112.064835 169.437646 \nL 112.674783 169.238888 \nL 113.28473 169.538729 \nL 114.504624 169.151975 \nL 115.114571 169.921321 \nL 115.724518 169.72799 \nL 116.334466 170.475075 \nL 116.944413 170.743296 \nL 117.55436 171.464506 \nL 118.164307 171.263322 \nL 118.774254 171.515452 \nL 119.384201 171.31778 \nL 120.604096 171.806147 \nL 121.214043 171.611412 \nL 121.82399 172.275732 \nL 122.433937 170.809478 \nL 123.043884 171.049248 \nL 123.653832 170.86886 \nL 124.263779 171.515452 \nL 124.873726 171.334104 \nL 125.483673 171.96471 \nL 126.09362 171.78258 \nL 128.533409 172.632735 \nL 129.143356 172.452699 \nL 129.753303 172.655872 \nL 130.36325 172.478692 \nL 130.973198 173.051984 \nL 131.583145 172.874453 \nL 132.193092 173.435006 \nL 132.803039 172.52812 \nL 133.412986 173.082371 \nL 134.022933 173.269001 \nL 134.632881 171.673591 \nL 135.242828 171.515452 \nL 135.852775 171.710015 \nL 138.292564 173.816604 \nL 138.902511 173.312477 \nL 139.512458 173.150342 \nL 140.122405 173.654449 \nL 140.732352 172.83327 \nL 141.342299 172.678233 \nL 142.562194 173.019489 \nL 143.172141 172.866454 \nL 143.782088 171.762545 \nL 144.392035 172.251468 \nL 145.001982 172.107082 \nL 145.61193 172.275732 \nL 146.221877 172.133181 \nL 147.441771 171.244672 \nL 148.051718 170.204361 \nL 148.661665 170.079658 \nL 149.271613 169.359627 \nL 149.88156 169.835236 \nL 150.491507 169.715458 \nL 152.931296 170.399561 \nL 153.541243 170.280001 \nL 154.15119 170.728543 \nL 154.761137 170.608413 \nL 155.371084 169.930341 \nL 156.590979 169.704476 \nL 157.810873 170.029879 \nL 158.42082 170.460799 \nL 159.030767 170.347389 \nL 159.640714 170.503275 \nL 160.250662 169.85832 \nL 162.080503 170.323603 \nL 162.69045 170.735171 \nL 163.300397 170.624776 \nL 163.910345 171.029842 \nL 164.520292 171.17464 \nL 165.130239 171.571932 \nL 166.350133 171.850492 \nL 166.96008 171.237826 \nL 167.570028 170.880472 \nL 168.789922 171.651972 \nL 170.009816 171.920525 \nL 170.619763 171.569168 \nL 171.229711 171.70244 \nL 171.839658 171.356041 \nL 172.449605 171.489028 \nL 173.059552 171.384022 \nL 173.669499 171.515452 \nL 174.279446 170.943241 \nL 176.109288 169.95353 \nL 176.719235 170.318208 \nL 177.329182 170.451063 \nL 177.939129 170.128722 \nL 178.549077 170.486951 \nL 179.768971 170.745622 \nL 180.378918 170.650637 \nL 180.988865 170.777872 \nL 182.20876 170.152196 \nL 182.818707 170.498019 \nL 184.648548 170.226285 \nL 185.868443 169.623852 \nL 186.47839 169.962312 \nL 187.088337 170.086776 \nL 187.698284 169.580688 \nL 188.918178 170.245359 \nL 189.528126 169.745593 \nL 190.138073 169.868182 \nL 190.74802 169.784682 \nL 191.357967 170.109986 \nL 192.577861 169.943059 \nL 193.187809 169.458225 \nL 194.407703 169.698286 \nL 195.01765 169.618146 \nL 196.847492 169.969774 \nL 197.457439 169.889854 \nL 199.28728 170.231865 \nL 199.897227 170.152196 \nL 200.507175 170.45498 \nL 201.117122 170.375033 \nL 202.337016 170.594098 \nL 203.55691 171.183229 \nL 204.166858 171.101916 \nL 204.776805 171.206591 \nL 205.386752 171.494947 \nL 208.436488 171.093592 \nL 209.046435 171.3754 \nL 210.266329 170.860516 \nL 210.876276 170.96197 \nL 211.486224 171.239815 \nL 212.096171 171.338962 \nL 213.316065 171.1847 \nL 213.926012 171.457316 \nL 214.535959 171.206591 \nL 215.755854 171.400531 \nL 216.365801 171.324653 \nL 216.975748 171.591483 \nL 217.585695 171.17464 \nL 218.195642 170.930735 \nL 218.80559 170.857799 \nL 219.415537 170.616943 \nL 220.025484 170.713572 \nL 220.635431 170.307869 \nL 221.245378 170.404936 \nL 221.855325 170.003402 \nL 222.465273 169.935543 \nL 223.07522 170.032908 \nL 223.685167 169.96544 \nL 224.295114 169.734949 \nL 224.905061 169.994893 \nL 226.124956 169.215261 \nL 226.734903 169.151975 \nL 227.34485 169.410275 \nL 227.954797 169.186756 \nL 228.564744 169.124252 \nL 229.174691 168.903351 \nL 230.394586 168.781683 \nL 231.61448 168.974941 \nL 232.224427 168.758441 \nL 232.834374 168.854473 \nL 233.444322 168.639901 \nL 234.664216 168.8308 \nL 235.274163 169.078628 \nL 237.104005 169.356572 \nL 237.713952 169.599238 \nL 238.933846 169.178107 \nL 239.543793 169.119421 \nL 240.15374 169.210376 \nL 240.763688 169.151975 \nL 241.373635 169.242221 \nL 241.983582 169.184098 \nL 242.593529 168.97909 \nL 243.203476 168.922226 \nL 243.813423 168.719425 \nL 244.423371 168.809605 \nL 245.033318 168.753848 \nL 245.643265 168.408708 \nL 246.253212 168.210214 \nL 246.863159 168.300872 \nL 247.473106 168.247481 \nL 248.083054 168.051413 \nL 248.693001 167.571503 \nL 249.302948 167.663048 \nL 249.912895 167.612361 \nL 250.522842 167.84439 \nL 251.132789 167.793451 \nL 251.742737 167.883141 \nL 252.352684 167.552674 \nL 252.962631 167.642556 \nL 253.572578 167.592883 \nL 254.182525 167.404967 \nL 254.792472 167.494472 \nL 255.40242 167.170327 \nL 256.012367 166.985453 \nL 256.622314 166.938571 \nL 257.842208 167.389717 \nL 259.062103 167.294633 \nL 259.67205 167.517071 \nL 260.281997 167.603805 \nL 261.501891 166.840762 \nL 262.111838 166.795576 \nL 262.721786 167.016185 \nL 263.331733 166.970747 \nL 263.94168 167.189534 \nL 264.551627 167.012262 \nL 265.161574 167.098432 \nL 266.381469 167.008398 \nL 266.991416 167.093826 \nL 267.601363 167.049091 \nL 268.21131 167.133903 \nL 268.821257 167.089306 \nL 271.261046 167.423233 \nL 271.870993 167.251368 \nL 272.48094 166.953774 \nL 273.090887 166.910576 \nL 273.700835 166.615633 \nL 274.310782 166.824916 \nL 274.920729 166.782447 \nL 275.530676 166.990079 \nL 276.140623 166.947385 \nL 276.75057 167.153401 \nL 277.970465 167.06782 \nL 278.580412 167.148583 \nL 279.800306 167.063731 \nL 283.459989 167.537895 \nL 284.069936 167.49522 \nL 284.679884 167.572656 \nL 285.289831 167.410554 \nL 286.509725 167.802484 \nL 287.119672 167.641072 \nL 288.339567 167.556757 \nL 288.949514 167.75026 \nL 289.559461 167.590683 \nL 290.779355 167.974468 \nL 291.389302 168.048417 \nL 291.99925 168.238116 \nL 292.609197 168.19517 \nL 293.829091 168.455624 \nL 295.048985 168.369506 \nL 295.658933 168.212441 \nL 296.26888 168.170224 \nL 297.488774 168.313358 \nL 298.708668 168.116389 \nL 301.148457 168.510632 \nL 301.758404 168.357153 \nL 302.368351 168.53801 \nL 302.978299 168.496138 \nL 303.588246 168.675756 \nL 304.198193 168.523383 \nL 306.028034 168.728074 \nL 307.247929 168.53583 \nL 308.467823 168.562419 \nL 309.687717 168.37284 \nL 312.127506 168.106077 \nL 312.737453 167.960192 \nL 313.957348 167.35206 \nL 315.177242 167.172289 \nL 316.397136 167.204505 \nL 317.007083 167.377847 \nL 317.617031 167.131769 \nL 318.226978 167.304468 \nL 320.056819 167.299358 \nL 320.666766 167.470062 \nL 321.276714 167.330388 \nL 321.886661 167.397273 \nL 322.496608 167.258413 \nL 323.106555 167.325159 \nL 323.716502 167.084859 \nL 327.376185 167.481316 \nL 327.986132 167.345094 \nL 329.206027 167.475186 \nL 329.815974 167.14 \nL 331.035868 167.170632 \nL 331.645815 167.235489 \nL 332.255763 167.002884 \nL 333.475657 167.132465 \nL 334.085604 167.000034 \nL 335.915446 167.38822 \nL 337.13534 167.417096 \nL 338.355234 167.639521 \nL 338.965181 167.508283 \nL 340.795023 167.886475 \nL 341.40497 167.75584 \nL 346.284548 168.332591 \nL 346.894495 168.109463 \nL 348.114389 168.13421 \nL 348.724336 168.099787 \nL 349.944231 168.310508 \nL 350.554178 168.368784 \nL 351.774072 168.114745 \nL 357.263597 168.540277 \nL 357.873544 168.506079 \nL 358.483491 168.291222 \nL 359.093438 168.257661 \nL 360.313332 168.460515 \nL 362.753121 168.41568 \nL 363.363068 168.560246 \nL 363.363068 168.560246 \n\" style=\"fill:none;stroke:#d62728;stroke-linecap:square;stroke-width:1.5;\"/>\n   </g>\n   <g id=\"line2d_17\">\n    <path clip-path=\"url(#p8ffbd17fff)\" d=\"M 58.999432 196.224545 \nL 59.609379 173.986361 \nL 60.219326 166.573634 \nL 60.829273 151.74818 \nL 61.43922 160.643451 \nL 62.049168 151.74818 \nL 62.659115 151.74818 \nL 63.269062 146.188634 \nL 63.879009 156.689998 \nL 65.098903 163.8781 \nL 66.318798 168.854473 \nL 66.928745 173.986361 \nL 67.538692 172.503817 \nL 68.148639 168.426821 \nL 68.758586 172.678233 \nL 69.368534 171.515452 \nL 69.978481 172.815932 \nL 71.198375 170.809478 \nL 72.418269 169.151975 \nL 73.028217 166.573634 \nL 73.638164 165.980619 \nL 74.858058 168.220911 \nL 75.468005 166.044157 \nL 76.077952 168.618528 \nL 76.6879 168.056185 \nL 77.297847 166.095394 \nL 77.907794 167.036929 \nL 78.517741 165.225867 \nL 79.127688 162.213207 \nL 81.567477 161.111624 \nL 82.177424 162.011956 \nL 83.397319 159.341705 \nL 84.007266 161.278829 \nL 84.617213 162.091519 \nL 85.22716 159.834791 \nL 85.837107 161.631816 \nL 86.447054 160.450081 \nL 87.057002 156.479708 \nL 87.666949 158.234317 \nL 88.276896 157.194265 \nL 88.886843 157.085348 \nL 89.49679 157.852779 \nL 90.106737 156.024757 \nL 91.936579 158.21747 \nL 93.156473 156.429902 \nL 94.376368 157.778876 \nL 94.986315 156.937091 \nL 95.596262 156.852027 \nL 97.426103 158.697612 \nL 98.645998 158.487024 \nL 99.255945 156.394969 \nL 99.865892 156.326633 \nL 100.475839 156.904862 \nL 101.085786 156.195819 \nL 101.695734 156.133176 \nL 102.305681 157.307727 \nL 103.525575 157.157469 \nL 104.745469 158.185552 \nL 105.355417 158.101946 \nL 105.965364 158.590698 \nL 106.575311 158.504083 \nL 107.185258 159.531543 \nL 107.795205 159.984546 \nL 108.405152 160.968894 \nL 109.0151 161.393657 \nL 109.625047 161.278829 \nL 110.234994 161.689959 \nL 110.844941 162.608689 \nL 112.674783 162.242606 \nL 113.28473 160.643451 \nL 113.894677 160.056951 \nL 114.504624 159.966638 \nL 115.114571 160.356507 \nL 115.724518 160.264935 \nL 116.334466 159.238939 \nL 118.774254 160.733307 \nL 119.384201 160.643451 \nL 119.994149 160.995742 \nL 120.604096 160.905078 \nL 121.214043 161.679799 \nL 121.82399 161.156645 \nL 122.433937 161.490624 \nL 123.043884 162.237887 \nL 124.873726 163.173305 \nL 125.483673 163.069439 \nL 126.703567 163.661493 \nL 127.313515 163.556063 \nL 128.533409 162.577208 \nL 129.143356 162.867274 \nL 130.36325 164.18649 \nL 130.973198 163.70821 \nL 131.583145 162.867274 \nL 132.193092 162.775377 \nL 132.803039 162.320433 \nL 133.412986 162.957673 \nL 134.022933 162.508594 \nL 134.632881 162.77832 \nL 135.242828 161.984803 \nL 136.462722 162.519801 \nL 137.072669 162.436301 \nL 137.682616 163.038336 \nL 138.292564 162.612639 \nL 138.902511 162.530332 \nL 139.512458 163.118078 \nL 140.122405 162.701315 \nL 140.732352 163.279093 \nL 141.342299 163.521335 \nL 141.952247 163.110755 \nL 143.172141 164.227163 \nL 143.782088 164.455712 \nL 144.392035 164.365592 \nL 145.001982 163.963521 \nL 145.61193 163.8781 \nL 146.221877 163.485003 \nL 147.441771 163.32422 \nL 148.051718 163.54803 \nL 148.661665 162.566757 \nL 149.271613 163.091144 \nL 149.88156 163.015524 \nL 150.491507 163.235451 \nL 151.101454 163.159878 \nL 151.711401 163.666682 \nL 152.321348 162.722868 \nL 152.931296 162.652066 \nL 153.541243 162.867274 \nL 154.15119 163.363031 \nL 154.761137 163.289518 \nL 155.371084 162.657481 \nL 155.981031 163.145251 \nL 156.590979 163.35071 \nL 157.810873 163.208351 \nL 158.42082 162.867274 \nL 159.030767 162.799886 \nL 159.640714 163.269165 \nL 160.250662 162.933854 \nL 160.860609 162.073055 \nL 161.470556 162.538305 \nL 162.080503 162.213207 \nL 163.300397 162.608689 \nL 163.910345 162.28882 \nL 164.520292 162.483854 \nL 165.130239 162.168358 \nL 165.740186 162.361861 \nL 166.350133 162.804452 \nL 166.96008 162.742339 \nL 167.570028 163.177865 \nL 168.179975 162.867274 \nL 168.789922 162.805844 \nL 169.399869 162.989459 \nL 170.009816 163.414115 \nL 170.619763 163.592428 \nL 171.229711 163.528406 \nL 171.839658 163.704194 \nL 172.449605 163.640259 \nL 173.059552 163.813581 \nL 173.669499 163.514416 \nL 174.279446 163.686572 \nL 174.889394 163.624068 \nL 175.499341 163.793864 \nL 176.109288 164.192349 \nL 176.719235 163.898943 \nL 177.329182 164.292795 \nL 178.549077 164.165441 \nL 179.768971 163.593647 \nL 180.378918 163.756803 \nL 181.598812 163.637906 \nL 182.20876 164.017522 \nL 182.818707 164.175402 \nL 184.038601 163.622941 \nL 184.648548 163.565573 \nL 185.258495 163.294933 \nL 185.868443 163.452488 \nL 187.088337 162.919969 \nL 187.698284 163.286861 \nL 188.308231 163.232688 \nL 188.918178 163.594688 \nL 189.528126 163.539587 \nL 190.138073 163.896816 \nL 190.74802 164.045795 \nL 191.357967 163.785361 \nL 191.967914 163.933486 \nL 192.577861 163.8781 \nL 193.187809 164.225712 \nL 193.797756 164.369853 \nL 194.407703 163.914365 \nL 195.01765 163.860046 \nL 195.627597 163.410874 \nL 196.847492 163.699979 \nL 197.457439 163.257415 \nL 198.067386 163.01294 \nL 198.677333 163.35071 \nL 199.897227 163.634108 \nL 201.727069 163.482372 \nL 202.337016 163.621112 \nL 202.946963 163.571015 \nL 204.166858 164.216453 \nL 205.386752 163.74388 \nL 205.996699 163.694312 \nL 206.606646 163.828181 \nL 207.216593 163.596391 \nL 207.826541 163.184963 \nL 208.436488 163.138471 \nL 209.046435 163.452488 \nL 209.656382 163.584634 \nL 210.876276 163.13413 \nL 211.486224 162.734373 \nL 212.096171 162.514287 \nL 212.706118 162.471732 \nL 213.316065 162.60462 \nL 213.926012 162.562045 \nL 215.755854 162.953465 \nL 216.365801 162.738482 \nL 216.975748 162.696212 \nL 217.585695 162.483854 \nL 218.195642 162.442882 \nL 218.80559 162.57133 \nL 219.415537 162.530332 \nL 221.245378 162.908915 \nL 221.855325 163.199186 \nL 222.465273 163.156617 \nL 223.07522 163.279093 \nL 223.685167 163.072422 \nL 224.905061 162.989459 \nL 225.515008 163.110755 \nL 226.124956 163.392901 \nL 226.734903 163.511858 \nL 227.34485 163.790517 \nL 227.954797 163.907188 \nL 228.564744 163.704194 \nL 229.174691 163.979182 \nL 229.784639 163.935653 \nL 230.394586 164.050156 \nL 231.004533 164.006686 \nL 232.224427 164.232777 \nL 232.834374 164.189121 \nL 233.444322 163.990807 \nL 234.054269 164.102725 \nL 234.664216 163.598287 \nL 235.274163 163.250688 \nL 235.88411 162.752645 \nL 236.494057 162.867274 \nL 237.104005 162.677529 \nL 237.713952 162.33779 \nL 238.933846 162.867274 \nL 239.543793 162.979584 \nL 240.15374 162.9419 \nL 240.763688 163.201963 \nL 241.373635 163.312039 \nL 242.593529 163.824543 \nL 243.203476 163.637906 \nL 244.423371 163.55994 \nL 246.253212 163.8781 \nL 248.083054 163.33206 \nL 249.302948 163.258038 \nL 249.912895 163.504673 \nL 251.742737 162.972499 \nL 252.962631 163.18098 \nL 254.792472 163.074463 \nL 255.40242 162.901697 \nL 256.622314 163.106759 \nL 257.232261 163.071918 \nL 257.842208 162.765264 \nL 258.452155 162.596077 \nL 259.062103 162.698293 \nL 259.67205 162.934662 \nL 260.281997 162.900862 \nL 260.891944 163.135204 \nL 261.501891 162.833885 \nL 262.111838 162.933854 \nL 262.721786 162.634934 \nL 263.331733 162.602532 \nL 263.94168 162.306369 \nL 265.161574 162.768876 \nL 265.771521 162.605647 \nL 266.991416 163.062348 \nL 268.821257 162.963963 \nL 270.041152 163.412014 \nL 270.651099 163.378492 \nL 271.261046 163.47261 \nL 271.870993 163.439114 \nL 272.48094 163.659233 \nL 273.090887 163.625393 \nL 273.700835 163.843736 \nL 274.310782 163.683927 \nL 274.920729 163.775592 \nL 275.530676 163.616877 \nL 276.140623 163.832794 \nL 276.75057 163.79904 \nL 277.970465 163.23791 \nL 278.580412 163.206085 \nL 279.190359 163.420153 \nL 279.800306 163.388003 \nL 280.410253 163.11165 \nL 281.020201 163.202367 \nL 282.240095 163.139949 \nL 282.850042 163.229851 \nL 283.459989 162.957673 \nL 284.069936 162.927379 \nL 284.679884 162.777359 \nL 285.289831 162.867274 \nL 285.899778 162.837464 \nL 286.509725 162.926736 \nL 287.119672 162.77832 \nL 287.729619 162.512405 \nL 288.949514 162.455455 \nL 289.559461 162.544555 \nL 290.169408 162.516143 \nL 290.779355 162.371146 \nL 291.389302 162.459769 \nL 291.99925 162.08342 \nL 292.609197 161.940684 \nL 293.829091 162.23354 \nL 294.439038 162.206447 \nL 295.048985 162.294122 \nL 296.26888 162.696212 \nL 296.878827 162.554456 \nL 298.708668 162.923714 \nL 299.318616 162.782827 \nL 299.928563 162.867274 \nL 301.148457 162.699651 \nL 303.588246 163.033227 \nL 306.028034 162.922044 \nL 306.637982 163.113147 \nL 307.247929 162.867274 \nL 310.297665 163.163424 \nL 311.517559 163.001236 \nL 315.177242 163.369081 \nL 317.617031 163.678314 \nL 318.836925 163.414115 \nL 322.496608 163.766042 \nL 323.716502 163.608546 \nL 325.546344 163.628853 \nL 326.156291 163.804415 \nL 327.376185 163.749738 \nL 327.986132 163.923836 \nL 328.59608 163.795958 \nL 329.206027 163.868993 \nL 329.815974 163.641862 \nL 331.035868 163.887146 \nL 335.305498 164.287771 \nL 337.13534 164.108133 \nL 337.745287 163.789815 \nL 338.355234 163.763583 \nL 340.185076 164.166906 \nL 340.795023 163.94796 \nL 341.40497 164.017522 \nL 342.014917 163.512898 \nL 344.454706 163.507391 \nL 345.064653 163.671633 \nL 345.6746 163.551888 \nL 346.284548 163.715342 \nL 347.504442 163.758679 \nL 348.114389 163.920661 \nL 349.944231 163.658173 \nL 351.774072 164.046219 \nL 352.384019 163.928429 \nL 353.603914 164.153777 \nL 356.043702 163.778674 \nL 356.653649 163.845028 \nL 357.873544 163.523999 \nL 359.703385 163.992689 \nL 360.313332 163.788251 \nL 362.143174 163.715719 \nL 363.363068 163.934705 \nL 363.363068 163.934705 \n\" style=\"fill:none;stroke:#9467bd;stroke-linecap:square;stroke-width:1.5;\"/>\n   </g>\n   <g id=\"line2d_18\">\n    <path clip-path=\"url(#p8ffbd17fff)\" d=\"M 58.999432 196.224545 \nL 59.609379 196.224545 \nL 60.219326 211.049998 \nL 60.829273 196.224545 \nL 61.43922 196.224545 \nL 62.049168 181.399088 \nL 62.659115 189.870779 \nL 63.269062 196.224545 \nL 63.879009 191.282727 \nL 65.098903 192.18124 \nL 65.708851 192.518181 \nL 66.928745 180.340127 \nL 68.148639 182.325684 \nL 68.758586 172.678233 \nL 69.368534 173.986361 \nL 70.588428 167.314906 \nL 71.198375 168.691556 \nL 72.418269 167.218224 \nL 73.028217 170.280001 \nL 74.248111 168.854473 \nL 74.858058 171.515452 \nL 75.468005 169.22104 \nL 76.6879 171.021273 \nL 77.297847 170.399561 \nL 77.907794 167.036929 \nL 78.517741 166.573634 \nL 79.737635 170.809478 \nL 80.347583 170.280001 \nL 81.567477 173.986361 \nL 82.177424 174.556571 \nL 82.787371 172.874453 \nL 83.397319 170.189602 \nL 84.007266 169.750517 \nL 84.617213 170.366191 \nL 85.22716 168.932234 \nL 87.057002 170.674297 \nL 87.666949 168.426821 \nL 89.49679 167.44572 \nL 90.716685 168.531714 \nL 93.76642 167.084859 \nL 94.376368 166.071078 \nL 94.986315 167.314906 \nL 95.596262 165.601473 \nL 96.206209 166.812754 \nL 96.816156 165.86766 \nL 97.426103 167.036929 \nL 98.036051 167.485975 \nL 98.645998 167.247518 \nL 99.255945 167.680015 \nL 99.865892 167.44572 \nL 100.475839 167.862808 \nL 101.695734 166.156016 \nL 102.305681 163.485003 \nL 104.135522 164.794583 \nL 105.355417 164.455712 \nL 105.965364 163.722585 \nL 106.575311 164.696999 \nL 107.185258 163.423228 \nL 107.795205 162.729999 \nL 108.405152 161.511289 \nL 109.0151 160.857798 \nL 109.625047 161.808313 \nL 110.234994 162.213207 \nL 110.844941 161.057186 \nL 111.454888 161.46141 \nL 112.064835 159.834791 \nL 112.674783 159.743935 \nL 113.894677 161.523205 \nL 114.504624 160.933517 \nL 115.114571 160.834754 \nL 116.334466 161.579797 \nL 116.944413 161.477389 \nL 117.55436 158.625969 \nL 118.164307 159.009628 \nL 118.774254 158.487024 \nL 119.994149 158.353579 \nL 121.82399 156.880068 \nL 122.433937 157.25478 \nL 123.653832 157.151855 \nL 124.873726 156.236625 \nL 125.483673 156.195819 \nL 126.09362 156.556434 \nL 126.703567 156.513508 \nL 127.923462 155.649614 \nL 128.533409 155.615695 \nL 129.143356 155.965766 \nL 129.753303 154.789299 \nL 130.36325 154.386613 \nL 130.973198 154.364437 \nL 132.193092 155.056341 \nL 132.803039 155.758345 \nL 133.412986 155.725744 \nL 134.022933 155.334987 \nL 134.632881 156.017911 \nL 135.242828 155.984024 \nL 135.852775 156.300878 \nL 136.462722 156.265315 \nL 137.072669 155.88552 \nL 139.512458 157.098723 \nL 142.562194 160.127786 \nL 143.172141 159.427551 \nL 144.392035 160.580364 \nL 145.001982 160.518172 \nL 146.221877 161.014094 \nL 147.441771 162.105689 \nL 148.051718 162.33779 \nL 148.661665 161.965723 \nL 149.88156 161.829488 \nL 150.491507 161.173638 \nL 151.101454 161.111624 \nL 151.711401 160.469036 \nL 152.931296 159.782619 \nL 153.541243 160.016225 \nL 154.761137 159.911564 \nL 155.981031 160.921435 \nL 156.590979 161.140706 \nL 157.200926 160.808184 \nL 157.810873 161.02546 \nL 158.42082 160.968894 \nL 159.030767 161.182565 \nL 159.640714 160.321938 \nL 160.860609 160.749352 \nL 162.080503 161.689959 \nL 162.69045 161.891912 \nL 164.520292 161.717019 \nL 165.740186 161.098329 \nL 166.350133 160.542945 \nL 166.96008 160.743401 \nL 168.179975 160.643451 \nL 168.789922 161.085764 \nL 169.399869 161.034454 \nL 170.009816 161.22675 \nL 170.619763 161.175235 \nL 171.229711 160.643451 \nL 171.839658 160.356507 \nL 173.669499 160.219868 \nL 174.279446 160.409368 \nL 174.889394 160.829744 \nL 175.499341 161.014094 \nL 176.109288 160.966078 \nL 176.719235 161.147824 \nL 177.329182 161.099622 \nL 177.939129 161.505755 \nL 178.549077 161.456221 \nL 179.768971 162.252647 \nL 180.988865 162.590676 \nL 181.598812 162.977363 \nL 182.20876 162.702952 \nL 182.818707 162.649249 \nL 183.428654 163.029992 \nL 184.648548 162.92099 \nL 185.258495 163.294933 \nL 185.868443 163.452488 \nL 186.47839 162.973168 \nL 187.088337 162.709182 \nL 187.698284 162.657481 \nL 188.308231 163.023882 \nL 188.918178 162.555523 \nL 189.528126 162.918988 \nL 190.138073 162.867274 \nL 190.74802 162.611075 \nL 191.357967 162.765264 \nL 191.967914 162.714954 \nL 192.577861 163.069439 \nL 193.187809 163.219459 \nL 193.797756 163.167791 \nL 195.01765 163.46294 \nL 195.627597 163.410874 \nL 196.237544 163.556063 \nL 196.847492 163.50405 \nL 197.457439 163.842629 \nL 198.067386 163.595596 \nL 198.677333 163.544087 \nL 199.28728 163.300487 \nL 199.897227 163.250688 \nL 200.507175 163.583096 \nL 201.117122 163.342446 \nL 201.727069 163.671633 \nL 202.337016 163.432652 \nL 202.946963 163.571015 \nL 203.55691 163.147584 \nL 204.166858 163.285986 \nL 204.776805 162.867274 \nL 205.386752 163.005683 \nL 205.996699 162.775377 \nL 206.606646 162.91303 \nL 207.826541 163.54803 \nL 208.436488 163.680865 \nL 209.046435 163.452488 \nL 209.656382 163.584634 \nL 211.486224 164.50634 \nL 212.096171 164.102725 \nL 212.706118 164.053894 \nL 213.316065 164.355657 \nL 213.926012 164.1318 \nL 214.535959 163.735953 \nL 215.755854 163.987804 \nL 216.365801 163.768819 \nL 218.195642 164.649725 \nL 218.80559 164.600669 \nL 219.415537 164.720454 \nL 220.025484 164.671503 \nL 220.635431 164.790122 \nL 221.245378 164.40812 \nL 223.07522 165.255816 \nL 224.905061 165.596132 \nL 225.515008 165.545597 \nL 226.124956 165.33369 \nL 227.954797 166.147002 \nL 228.564744 165.935983 \nL 229.174691 166.044157 \nL 229.784639 165.518444 \nL 231.004533 165.421126 \nL 231.61448 165.216376 \nL 232.224427 165.169122 \nL 232.834374 165.277707 \nL 233.444322 165.230566 \nL 234.054269 165.029315 \nL 234.664216 165.291154 \nL 235.274163 165.244457 \nL 235.88411 165.503758 \nL 236.494057 165.456649 \nL 237.713952 165.665952 \nL 238.323899 165.920309 \nL 238.933846 165.872432 \nL 239.543793 165.974628 \nL 240.15374 165.92689 \nL 240.763688 166.028218 \nL 241.373635 165.832362 \nL 241.983582 165.785572 \nL 242.593529 165.886363 \nL 243.203476 166.133277 \nL 243.813423 166.085957 \nL 244.423371 166.184773 \nL 245.033318 166.137591 \nL 245.643265 166.235599 \nL 246.253212 166.188557 \nL 246.863159 165.710019 \nL 247.473106 165.521506 \nL 248.693001 166.003424 \nL 249.912895 165.34605 \nL 251.132789 165.259985 \nL 251.742737 165.357668 \nL 252.352684 165.594594 \nL 254.182525 165.880856 \nL 254.792472 165.836968 \nL 255.40242 165.931046 \nL 256.012367 165.887271 \nL 257.232261 166.073391 \nL 257.842208 165.893567 \nL 258.452155 166.121639 \nL 259.062103 165.942763 \nL 259.67205 165.89975 \nL 260.281997 165.991369 \nL 262.721786 165.821301 \nL 263.94168 166.265688 \nL 265.161574 166.442436 \nL 265.771521 166.660845 \nL 266.381469 166.486681 \nL 267.601363 166.660083 \nL 268.21131 166.875318 \nL 268.821257 166.960388 \nL 269.431204 166.916421 \nL 270.041152 167.129058 \nL 270.651099 167.212664 \nL 271.261046 166.786039 \nL 271.870993 166.743073 \nL 272.48094 166.953774 \nL 273.090887 167.036929 \nL 273.700835 167.245609 \nL 274.310782 167.327472 \nL 274.920729 167.283585 \nL 275.530676 167.364884 \nL 276.75057 167.27764 \nL 277.970465 167.685542 \nL 279.800306 167.921408 \nL 280.410253 168.121346 \nL 281.020201 167.954638 \nL 281.630148 168.031875 \nL 282.240095 167.74513 \nL 282.850042 167.70166 \nL 283.459989 167.537895 \nL 284.069936 167.615423 \nL 284.679884 167.812419 \nL 285.289831 167.888801 \nL 285.899778 167.845523 \nL 286.509725 167.921408 \nL 288.339567 168.500552 \nL 289.559461 168.412148 \nL 290.169408 168.251252 \nL 290.779355 168.441408 \nL 291.389302 168.514138 \nL 291.99925 168.238116 \nL 292.609197 168.310992 \nL 293.219144 168.267973 \nL 293.829091 167.764283 \nL 294.439038 167.722895 \nL 295.048985 167.567096 \nL 295.658933 167.526429 \nL 296.878827 167.673222 \nL 297.488774 167.178758 \nL 298.098721 167.252667 \nL 298.708668 167.100427 \nL 299.318616 167.174158 \nL 299.928563 167.359834 \nL 300.53851 167.208482 \nL 301.758404 167.46539 \nL 302.368351 167.092527 \nL 306.028034 167.523049 \nL 308.467823 167.477624 \nL 312.127506 167.892247 \nL 315.177242 167.700514 \nL 315.787189 167.873498 \nL 317.617031 167.550374 \nL 318.836925 167.788838 \nL 320.056819 167.506706 \nL 321.276714 167.743162 \nL 323.716502 168.311794 \nL 324.936397 168.439539 \nL 325.546344 168.198345 \nL 326.156291 168.262187 \nL 327.376185 167.985582 \nL 328.59608 168.113075 \nL 329.206027 167.976045 \nL 329.815974 168.139473 \nL 332.255763 168.092503 \nL 334.085604 168.27922 \nL 336.525393 167.8416 \nL 339.575129 168.052964 \nL 340.185076 167.825137 \nL 341.40497 167.75584 \nL 342.014917 167.912713 \nL 343.234812 167.653008 \nL 343.844759 167.714054 \nL 344.454706 167.490349 \nL 345.064653 167.551488 \nL 345.6746 167.423504 \nL 347.504442 167.605787 \nL 348.114389 167.478771 \nL 349.334283 167.785783 \nL 350.554178 167.81167 \nL 351.164125 167.963526 \nL 351.774072 167.837345 \nL 352.993966 168.046973 \nL 353.603914 168.013298 \nL 354.823808 168.312424 \nL 356.653649 168.028893 \nL 357.263597 168.177203 \nL 359.703385 168.13421 \nL 360.313332 168.28081 \nL 362.753121 168.059154 \nL 363.363068 167.848625 \nL 363.363068 167.848625 \n\" style=\"fill:none;stroke:#8c564b;stroke-linecap:square;stroke-width:1.5;\"/>\n   </g>\n   <g id=\"line2d_19\">\n    <path clip-path=\"url(#p8ffbd17fff)\" d=\"M 43.78125 166.425382 \nL 378.58125 166.425382 \n\" style=\"fill:none;stroke:#000000;stroke-dasharray:5.55,2.4;stroke-dashoffset:0;stroke-width:1.5;\"/>\n   </g>\n   <g id=\"patch_3\">\n    <path d=\"M 43.78125 251.82 \nL 43.78125 7.2 \n\" style=\"fill:none;stroke:#000000;stroke-linecap:square;stroke-linejoin:miter;stroke-width:0.8;\"/>\n   </g>\n   <g id=\"patch_4\">\n    <path d=\"M 378.58125 251.82 \nL 378.58125 7.2 \n\" style=\"fill:none;stroke:#000000;stroke-linecap:square;stroke-linejoin:miter;stroke-width:0.8;\"/>\n   </g>\n   <g id=\"patch_5\">\n    <path d=\"M 43.78125 251.82 \nL 378.58125 251.82 \n\" style=\"fill:none;stroke:#000000;stroke-linecap:square;stroke-linejoin:miter;stroke-width:0.8;\"/>\n   </g>\n   <g id=\"patch_6\">\n    <path d=\"M 43.78125 7.2 \nL 378.58125 7.2 \n\" style=\"fill:none;stroke:#000000;stroke-linecap:square;stroke-linejoin:miter;stroke-width:0.8;\"/>\n   </g>\n   <g id=\"legend_1\">\n    <g id=\"patch_7\">\n     <path d=\"M 295.726562 103.26875 \nL 371.58125 103.26875 \nQ 373.58125 103.26875 373.58125 101.26875 \nL 373.58125 14.2 \nQ 373.58125 12.2 371.58125 12.2 \nL 295.726562 12.2 \nQ 293.726562 12.2 293.726562 14.2 \nL 293.726562 101.26875 \nQ 293.726562 103.26875 295.726562 103.26875 \nz\n\" style=\"fill:#ffffff;opacity:0.8;stroke:#cccccc;stroke-linejoin:miter;\"/>\n    </g>\n    <g id=\"line2d_20\">\n     <path d=\"M 297.726562 20.298437 \nL 317.726562 20.298437 \n\" style=\"fill:none;stroke:#1f77b4;stroke-linecap:square;stroke-width:1.5;\"/>\n    </g>\n    <g id=\"line2d_21\"/>\n    <g id=\"text_15\">\n     <!-- P(die=1) -->\n     <defs>\n      <path d=\"M 19.671875 64.796875 \nL 19.671875 37.40625 \nL 32.078125 37.40625 \nQ 38.96875 37.40625 42.71875 40.96875 \nQ 46.484375 44.53125 46.484375 51.125 \nQ 46.484375 57.671875 42.71875 61.234375 \nQ 38.96875 64.796875 32.078125 64.796875 \nz\nM 9.8125 72.90625 \nL 32.078125 72.90625 \nQ 44.34375 72.90625 50.609375 67.359375 \nQ 56.890625 61.8125 56.890625 51.125 \nQ 56.890625 40.328125 50.609375 34.8125 \nQ 44.34375 29.296875 32.078125 29.296875 \nL 19.671875 29.296875 \nL 19.671875 0 \nL 9.8125 0 \nz\n\" id=\"DejaVuSans-80\"/>\n      <path d=\"M 31 75.875 \nQ 24.46875 64.65625 21.28125 53.65625 \nQ 18.109375 42.671875 18.109375 31.390625 \nQ 18.109375 20.125 21.3125 9.0625 \nQ 24.515625 -2 31 -13.1875 \nL 23.1875 -13.1875 \nQ 15.875 -1.703125 12.234375 9.375 \nQ 8.59375 20.453125 8.59375 31.390625 \nQ 8.59375 42.28125 12.203125 53.3125 \nQ 15.828125 64.359375 23.1875 75.875 \nz\n\" id=\"DejaVuSans-40\"/>\n      <path d=\"M 10.59375 45.40625 \nL 73.1875 45.40625 \nL 73.1875 37.203125 \nL 10.59375 37.203125 \nz\nM 10.59375 25.484375 \nL 73.1875 25.484375 \nL 73.1875 17.1875 \nL 10.59375 17.1875 \nz\n\" id=\"DejaVuSans-61\"/>\n      <path d=\"M 8.015625 75.875 \nL 15.828125 75.875 \nQ 23.140625 64.359375 26.78125 53.3125 \nQ 30.421875 42.28125 30.421875 31.390625 \nQ 30.421875 20.453125 26.78125 9.375 \nQ 23.140625 -1.703125 15.828125 -13.1875 \nL 8.015625 -13.1875 \nQ 14.5 -2 17.703125 9.0625 \nQ 20.90625 20.125 20.90625 31.390625 \nQ 20.90625 42.671875 17.703125 53.65625 \nQ 14.5 64.65625 8.015625 75.875 \nz\n\" id=\"DejaVuSans-41\"/>\n     </defs>\n     <g transform=\"translate(325.726562 23.798437)scale(0.1 -0.1)\">\n      <use xlink:href=\"#DejaVuSans-80\"/>\n      <use x=\"60.302734\" xlink:href=\"#DejaVuSans-40\"/>\n      <use x=\"99.316406\" xlink:href=\"#DejaVuSans-100\"/>\n      <use x=\"162.792969\" xlink:href=\"#DejaVuSans-105\"/>\n      <use x=\"190.576172\" xlink:href=\"#DejaVuSans-101\"/>\n      <use x=\"252.099609\" xlink:href=\"#DejaVuSans-61\"/>\n      <use x=\"335.888672\" xlink:href=\"#DejaVuSans-49\"/>\n      <use x=\"399.511719\" xlink:href=\"#DejaVuSans-41\"/>\n     </g>\n    </g>\n    <g id=\"line2d_22\">\n     <path d=\"M 297.726562 34.976562 \nL 317.726562 34.976562 \n\" style=\"fill:none;stroke:#ff7f0e;stroke-linecap:square;stroke-width:1.5;\"/>\n    </g>\n    <g id=\"line2d_23\"/>\n    <g id=\"text_16\">\n     <!-- P(die=2) -->\n     <g transform=\"translate(325.726562 38.476562)scale(0.1 -0.1)\">\n      <use xlink:href=\"#DejaVuSans-80\"/>\n      <use x=\"60.302734\" xlink:href=\"#DejaVuSans-40\"/>\n      <use x=\"99.316406\" xlink:href=\"#DejaVuSans-100\"/>\n      <use x=\"162.792969\" xlink:href=\"#DejaVuSans-105\"/>\n      <use x=\"190.576172\" xlink:href=\"#DejaVuSans-101\"/>\n      <use x=\"252.099609\" xlink:href=\"#DejaVuSans-61\"/>\n      <use x=\"335.888672\" xlink:href=\"#DejaVuSans-50\"/>\n      <use x=\"399.511719\" xlink:href=\"#DejaVuSans-41\"/>\n     </g>\n    </g>\n    <g id=\"line2d_24\">\n     <path d=\"M 297.726562 49.654687 \nL 317.726562 49.654687 \n\" style=\"fill:none;stroke:#2ca02c;stroke-linecap:square;stroke-width:1.5;\"/>\n    </g>\n    <g id=\"line2d_25\"/>\n    <g id=\"text_17\">\n     <!-- P(die=3) -->\n     <g transform=\"translate(325.726562 53.154687)scale(0.1 -0.1)\">\n      <use xlink:href=\"#DejaVuSans-80\"/>\n      <use x=\"60.302734\" xlink:href=\"#DejaVuSans-40\"/>\n      <use x=\"99.316406\" xlink:href=\"#DejaVuSans-100\"/>\n      <use x=\"162.792969\" xlink:href=\"#DejaVuSans-105\"/>\n      <use x=\"190.576172\" xlink:href=\"#DejaVuSans-101\"/>\n      <use x=\"252.099609\" xlink:href=\"#DejaVuSans-61\"/>\n      <use x=\"335.888672\" xlink:href=\"#DejaVuSans-51\"/>\n      <use x=\"399.511719\" xlink:href=\"#DejaVuSans-41\"/>\n     </g>\n    </g>\n    <g id=\"line2d_26\">\n     <path d=\"M 297.726562 64.332812 \nL 317.726562 64.332812 \n\" style=\"fill:none;stroke:#d62728;stroke-linecap:square;stroke-width:1.5;\"/>\n    </g>\n    <g id=\"line2d_27\"/>\n    <g id=\"text_18\">\n     <!-- P(die=4) -->\n     <g transform=\"translate(325.726562 67.832812)scale(0.1 -0.1)\">\n      <use xlink:href=\"#DejaVuSans-80\"/>\n      <use x=\"60.302734\" xlink:href=\"#DejaVuSans-40\"/>\n      <use x=\"99.316406\" xlink:href=\"#DejaVuSans-100\"/>\n      <use x=\"162.792969\" xlink:href=\"#DejaVuSans-105\"/>\n      <use x=\"190.576172\" xlink:href=\"#DejaVuSans-101\"/>\n      <use x=\"252.099609\" xlink:href=\"#DejaVuSans-61\"/>\n      <use x=\"335.888672\" xlink:href=\"#DejaVuSans-52\"/>\n      <use x=\"399.511719\" xlink:href=\"#DejaVuSans-41\"/>\n     </g>\n    </g>\n    <g id=\"line2d_28\">\n     <path d=\"M 297.726562 79.010937 \nL 317.726562 79.010937 \n\" style=\"fill:none;stroke:#9467bd;stroke-linecap:square;stroke-width:1.5;\"/>\n    </g>\n    <g id=\"line2d_29\"/>\n    <g id=\"text_19\">\n     <!-- P(die=5) -->\n     <g transform=\"translate(325.726562 82.510937)scale(0.1 -0.1)\">\n      <use xlink:href=\"#DejaVuSans-80\"/>\n      <use x=\"60.302734\" xlink:href=\"#DejaVuSans-40\"/>\n      <use x=\"99.316406\" xlink:href=\"#DejaVuSans-100\"/>\n      <use x=\"162.792969\" xlink:href=\"#DejaVuSans-105\"/>\n      <use x=\"190.576172\" xlink:href=\"#DejaVuSans-101\"/>\n      <use x=\"252.099609\" xlink:href=\"#DejaVuSans-61\"/>\n      <use x=\"335.888672\" xlink:href=\"#DejaVuSans-53\"/>\n      <use x=\"399.511719\" xlink:href=\"#DejaVuSans-41\"/>\n     </g>\n    </g>\n    <g id=\"line2d_30\">\n     <path d=\"M 297.726562 93.689062 \nL 317.726562 93.689062 \n\" style=\"fill:none;stroke:#8c564b;stroke-linecap:square;stroke-width:1.5;\"/>\n    </g>\n    <g id=\"line2d_31\"/>\n    <g id=\"text_20\">\n     <!-- P(die=6) -->\n     <defs>\n      <path d=\"M 33.015625 40.375 \nQ 26.375 40.375 22.484375 35.828125 \nQ 18.609375 31.296875 18.609375 23.390625 \nQ 18.609375 15.53125 22.484375 10.953125 \nQ 26.375 6.390625 33.015625 6.390625 \nQ 39.65625 6.390625 43.53125 10.953125 \nQ 47.40625 15.53125 47.40625 23.390625 \nQ 47.40625 31.296875 43.53125 35.828125 \nQ 39.65625 40.375 33.015625 40.375 \nz\nM 52.59375 71.296875 \nL 52.59375 62.3125 \nQ 48.875 64.0625 45.09375 64.984375 \nQ 41.3125 65.921875 37.59375 65.921875 \nQ 27.828125 65.921875 22.671875 59.328125 \nQ 17.53125 52.734375 16.796875 39.40625 \nQ 19.671875 43.65625 24.015625 45.921875 \nQ 28.375 48.1875 33.59375 48.1875 \nQ 44.578125 48.1875 50.953125 41.515625 \nQ 57.328125 34.859375 57.328125 23.390625 \nQ 57.328125 12.15625 50.6875 5.359375 \nQ 44.046875 -1.421875 33.015625 -1.421875 \nQ 20.359375 -1.421875 13.671875 8.265625 \nQ 6.984375 17.96875 6.984375 36.375 \nQ 6.984375 53.65625 15.1875 63.9375 \nQ 23.390625 74.21875 37.203125 74.21875 \nQ 40.921875 74.21875 44.703125 73.484375 \nQ 48.484375 72.75 52.59375 71.296875 \nz\n\" id=\"DejaVuSans-54\"/>\n     </defs>\n     <g transform=\"translate(325.726562 97.189062)scale(0.1 -0.1)\">\n      <use xlink:href=\"#DejaVuSans-80\"/>\n      <use x=\"60.302734\" xlink:href=\"#DejaVuSans-40\"/>\n      <use x=\"99.316406\" xlink:href=\"#DejaVuSans-100\"/>\n      <use x=\"162.792969\" xlink:href=\"#DejaVuSans-105\"/>\n      <use x=\"190.576172\" xlink:href=\"#DejaVuSans-101\"/>\n      <use x=\"252.099609\" xlink:href=\"#DejaVuSans-61\"/>\n      <use x=\"335.888672\" xlink:href=\"#DejaVuSans-54\"/>\n      <use x=\"399.511719\" xlink:href=\"#DejaVuSans-41\"/>\n     </g>\n    </g>\n   </g>\n  </g>\n </g>\n <defs>\n  <clipPath id=\"p8ffbd17fff\">\n   <rect height=\"244.62\" width=\"334.8\" x=\"43.78125\" y=\"7.2\"/>\n  </clipPath>\n </defs>\n</svg>\n"
          },
          "metadata": {
            "needs_background": "light"
          }
        }
      ],
      "source": [
        "!pip install matplotlib==3.1.3\n",
        "counts = np.random.multinomial(10, fair_probs, size=500)\n",
        "cum_counts = counts.astype(np.float32).cumsum(axis=0)\n",
        "estimates = cum_counts / cum_counts.sum(axis=1, keepdims=True)\n",
        "\n",
        "d2l.set_figsize((6, 4.5))\n",
        "for i in range(6):\n",
        "    d2l.plt.plot(estimates[:, i].asnumpy(),\n",
        "                 label=(\"P(die=\" + str(i + 1) + \")\"))\n",
        "d2l.plt.axhline(y=0.167, color='black', linestyle='dashed')\n",
        "d2l.plt.gca().set_xlabel('Groups of experiments')\n",
        "d2l.plt.gca().set_ylabel('Estimated probability')\n",
        "d2l.plt.legend();"
      ]
    },
    {
      "cell_type": "markdown",
      "metadata": {
        "origin_pos": 20,
        "id": "Q0aPoIN9hyDU"
      },
      "source": [
        "Each solid curve corresponds to one of the six values of the die and gives our estimated probability that the die turns up that value as assessed after each group of experiments.\n",
        "The dashed black line gives the true underlying probability.\n",
        "As we get more data by conducting more experiments,\n",
        "the $6$ solid curves converge towards the true probability.\n",
        "\n",
        "### Axioms of Probability Theory\n",
        "\n",
        "When dealing with the rolls of a die,\n",
        "we call the set $\\mathcal{S} = \\{1, 2, 3, 4, 5, 6\\}$ the *sample space* or *outcome space*, where each element is an *outcome*.\n",
        "An *event* is a set of outcomes from a given sample space.\n",
        "For instance, \"seeing a $5$\" ($\\{5\\}$) and \"seeing an odd number\" ($\\{1, 3, 5\\}$) are both valid events of rolling a die.\n",
        "Note that if the outcome of a random experiment is in event $\\mathcal{A}$,\n",
        "then event $\\mathcal{A}$ has occurred.\n",
        "That is to say, if $3$ dots faced up after rolling a die, since $3 \\in \\{1, 3, 5\\}$,\n",
        "we can say that the event \"seeing an odd number\" has occurred.\n",
        "\n",
        "Formally, *probability* can be thought of a function that maps a set to a real value.\n",
        "The probability of an event $\\mathcal{A}$ in the given sample space $\\mathcal{S}$,\n",
        "denoted as $P(\\mathcal{A})$, satisfies the following properties:\n",
        "\n",
        "* For any event $\\mathcal{A}$, its probability is never negative, i.e., $P(\\mathcal{A}) \\geq 0$;\n",
        "* Probability of the entire sample space is $1$, i.e., $P(\\mathcal{S}) = 1$;\n",
        "* For any countable sequence of events $\\mathcal{A}_1, \\mathcal{A}_2, \\ldots$ that are *mutually exclusive* ($\\mathcal{A}_i \\cap \\mathcal{A}_j = \\emptyset$ for all $i \\neq j$), the probability that any happens is equal to the sum of their individual probabilities, i.e., $P(\\bigcup_{i=1}^{\\infty} \\mathcal{A}_i) = \\sum_{i=1}^{\\infty} P(\\mathcal{A}_i)$.\n",
        "\n",
        "These are also the axioms of probability theory, proposed by Kolmogorov in 1933.\n",
        "Thanks to this axiom system, we can avoid any philosophical dispute on randomness;\n",
        "instead, we can reason rigorously with a mathematical language.\n",
        "For instance, by letting event $\\mathcal{A}_1$ be the entire sample space and $\\mathcal{A}_i = \\emptyset$ for all $i > 1$, we can prove that $P(\\emptyset) = 0$, i.e., the probability of an impossible event is $0$.\n",
        "\n",
        "\n",
        "### Random Variables\n",
        "\n",
        "In our random experiment of casting a die, we introduced the notion of a *random variable*. A random variable can be pretty much any quantity and is not deterministic. It could take one value among a set of possibilities in a random experiment.\n",
        "Consider a random variable $X$ whose value is in the sample space $\\mathcal{S} = \\{1, 2, 3, 4, 5, 6\\}$ of rolling a die. We can denote the event \"seeing a $5$\" as $\\{X = 5\\}$ or $X = 5$, and its probability as $P(\\{X = 5\\})$ or $P(X = 5)$.\n",
        "By $P(X = a)$, we make a distinction between the random variable $X$ and the values (e.g., $a$) that $X$ can take.\n",
        "However, such pedantry results in a cumbersome notation.\n",
        "For a compact notation,\n",
        "on one hand, we can just denote $P(X)$ as the *distribution* over the random variable $X$:\n",
        "the distribution tells us the probability that $X$ takes any value.\n",
        "On the other hand,\n",
        "we can simply write $P(a)$ to denote the probability that a random variable takes the value $a$.\n",
        "Since an event in probability theory is a set of outcomes from the sample space,\n",
        "we can specify a range of values for a random variable to take.\n",
        "For example, $P(1 \\leq X \\leq 3)$ denotes the probability of the event $\\{1 \\leq X \\leq 3\\}$,\n",
        "which means $\\{X = 1, 2, \\text{or}, 3\\}$. Equivalently, $P(1 \\leq X \\leq 3)$ represents the probability that the random variable $X$ can take a value from $\\{1, 2, 3\\}$.\n",
        "\n",
        "Note that there is a subtle difference between *discrete* random variables, like the sides of a die, and *continuous* ones, like the weight and the height of a person. There is little point in asking whether two people have exactly the same height. If we take precise enough measurements you will find that no two people on the planet have the exact same height. In fact, if we take a fine enough measurement, you will not have the same height when you wake up and when you go to sleep. So there is no purpose in asking about the probability\n",
        "that someone is 1.80139278291028719210196740527486202 meters tall. Given the world population of humans the probability is virtually 0. It makes more sense in this case to ask whether someone's height falls into a given interval, say between 1.79 and 1.81 meters. In these cases we quantify the likelihood that we see a value as a *density*. The height of exactly 1.80 meters has no probability, but nonzero density. In the interval between any two different heights we have nonzero probability.\n",
        "In the rest of this section, we consider probability in discrete space.\n",
        "\n",
        "\n",
        "## Dealing with Multiple Random Variables\n",
        "\n",
        "Very often, we will want to consider more than one random variable at a time.\n",
        "For instance, we may want to model the relationship between diseases and symptoms. Given a disease and a symptom, say \"flu\" and \"cough\", either may or may not occur in a patient with some probability. While we hope that the probability of both would be close to zero, we may want to estimate these probabilities and their relationships to each other so that we may apply our inferences to effect better medical care.\n",
        "\n",
        "As a more complicated example, images contain millions of pixels, thus millions of random variables. And in many cases images will come with a\n",
        "label, identifying objects in the image. We can also think of the label as a\n",
        "random variable. We can even think of all the metadata as random variables\n",
        "such as location, time, aperture, focal length, ISO, focus distance, and camera type.\n",
        "All of these are random variables that occur jointly. When we deal with multiple random variables, there are several quantities of interest.\n",
        "\n",
        "### Joint Probability\n",
        "\n",
        "The first is called the *joint probability* $P(A = a, B=b)$. Given any values $a$ and $b$, the joint probability lets us answer, what is the probability that $A=a$ and $B=b$ simultaneously?\n",
        "Note that for any values $a$ and $b$, $P(A=a, B=b) \\leq P(A=a)$.\n",
        "This has to be the case, since for $A=a$ and $B=b$ to happen, $A=a$ has to happen *and* $B=b$ also has to happen (and vice versa). Thus, $A=a$ and $B=b$ cannot be more likely than $A=a$ or $B=b$ individually.\n",
        "\n",
        "\n",
        "### Conditional Probability\n",
        "\n",
        "This brings us to an interesting ratio: $0 \\leq \\frac{P(A=a, B=b)}{P(A=a)} \\leq 1$. We call this ratio a *conditional probability*\n",
        "and denote it by $P(B=b \\mid A=a)$: it is the probability of $B=b$, provided that\n",
        "$A=a$ has occurred.\n",
        "\n",
        "### Bayes' theorem\n",
        "\n",
        "Using the definition of conditional probabilities, we can derive one of the most useful and celebrated equations in statistics: *Bayes' theorem*.\n",
        "It goes as follows.\n",
        "By construction, we have the *multiplication rule* that $P(A, B) = P(B \\mid A) P(A)$. By symmetry, this also holds for $P(A, B) = P(A \\mid B) P(B)$. Assume that $P(B) > 0$. Solving for one of the conditional variables we get\n",
        "\n",
        "$$P(A \\mid B) = \\frac{P(B \\mid A) P(A)}{P(B)}.$$\n",
        "\n",
        "Note that here we use the more compact notation where $P(A, B)$ is a *joint distribution* and $P(A \\mid B)$ is a *conditional distribution*. Such distributions can be evaluated for particular values $A = a, B=b$.\n",
        "\n",
        "### Marginalization\n",
        "\n",
        "Bayes' theorem is very useful if we want to infer one thing from the other, say cause and effect, but we only know the properties in the reverse direction, as we will see later in this section. One important operation that we need, to make this work, is *marginalization*.\n",
        "It is the operation of determining $P(B)$ from $P(A, B)$. We can see that the probability of $B$ amounts to accounting for all possible choices of $A$ and aggregating the joint probabilities over all of them:\n",
        "\n",
        "$$P(B) = \\sum_{A} P(A, B),$$\n",
        "\n",
        "which is also known as the *sum rule*. The probability or distribution as a result of marginalization is called a *marginal probability* or a *marginal distribution*.\n",
        "\n",
        "\n",
        "### Independence\n",
        "\n",
        "Another useful property to check for is *dependence* vs. *independence*.\n",
        "Two random variables $A$ and $B$ being independent\n",
        "means that the occurrence of one event of $A$\n",
        "does not reveal any information about the occurrence of an event of $B$.\n",
        "In this case $P(B \\mid A) = P(B)$. Statisticians typically express this as $A \\perp  B$. From Bayes' theorem, it follows immediately that also $P(A \\mid B) = P(A)$.\n",
        "In all the other cases we call $A$ and $B$ dependent. For instance, two successive rolls of a die are independent. In contrast, the position of a light switch and the brightness in the room are not (they are not perfectly deterministic, though, since we could always have a broken light bulb, power failure, or a broken switch).\n",
        "\n",
        "Since $P(A \\mid B) = \\frac{P(A, B)}{P(B)} = P(A)$ is equivalent to $P(A, B) = P(A)P(B)$, two random variables are independent if and only if their joint distribution is the product of their individual distributions.\n",
        "Likewise, two random variables $A$ and $B$ are *conditionally independent* given another random variable $C$\n",
        "if and only if $P(A, B \\mid C) = P(A \\mid C)P(B \\mid C)$. This is expressed as $A \\perp B \\mid C$.\n",
        "\n",
        "### Application\n",
        "\n",
        "Let us put our skills to the test. Assume that a doctor administers an HIV test to a patient. This test is fairly accurate and it fails only with 1% probability if the patient is healthy but reporting him as diseased. Moreover,\n",
        "it never fails to detect HIV if the patient actually has it. We use $D_1$ to indicate the diagnosis ($1$ if positive and $0$ if negative) and $H$ to denote the HIV status ($1$ if positive and $0$ if negative).\n",
        "\n",
        ":Conditional probability of $P(D_1 \\mid H)$.\n",
        "\n",
        "| Conditional probability | $H=1$ | $H=0$ |\n",
        "|---|---|---|\n",
        "|$P(D_1 = 1 \\mid H)$|            1 |         0.01 |\n",
        "|$P(D_1 = 0 \\mid H)$|            0 |         0.99 |\n",
        "\n",
        "\n",
        "Note that the column sums are all 1 (but the row sums are not), since the conditional probability needs to sum up to 1, just like the probability. Let us work out the probability of the patient having HIV if the test comes back positive, i.e., $P(H = 1 \\mid D_1 = 1)$. Obviously this is going to depend on how common the disease is, since it affects the number of false alarms. Assume that the population is quite healthy, e.g., $P(H=1) = 0.0015$. To apply Bayes' theorem, we need to apply marginalization and the multiplication rule to determine\n",
        "\n",
        "$$\\begin{aligned}\n",
        "&P(D_1 = 1) \\\\\n",
        "=& P(D_1=1, H=0) + P(D_1=1, H=1)  \\\\\n",
        "=& P(D_1=1 \\mid H=0) P(H=0) + P(D_1=1 \\mid H=1) P(H=1) \\\\\n",
        "=& 0.011485.\n",
        "\\end{aligned}\n",
        "$$\n",
        "\n",
        "Thus, we get\n",
        "\n",
        "$$\\begin{aligned}\n",
        "&P(H = 1 \\mid D_1 = 1)\\\\ =& \\frac{P(D_1=1 \\mid H=1) P(H=1)}{P(D_1=1)} \\\\ =& 0.1306 \\end{aligned}.$$\n",
        "\n",
        "In other words, there is only a 13.06% chance that the patient\n",
        "actually has HIV, despite using a very accurate test.\n",
        "As we can see, probability can be counterintuitive.\n",
        "\n",
        "What should a patient do upon receiving such terrifying news? Likely, the patient\n",
        "would ask the physician to administer another test to get clarity. The second\n",
        "test has different characteristics and it is not as good as the first one, as shown in the following table.\n",
        "\n",
        "\n",
        ":Conditional probability of $P(D_2 \\mid H)$.\n",
        "\n",
        "| Conditional probability | $H=1$ | $H=0$ |\n",
        "|---|---|---|\n",
        "|$P(D_2 = 1 \\mid H)$|            0.98 |         0.03 |\n",
        "|$P(D_2 = 0 \\mid H)$|            0.02 |         0.97 |\n",
        "\n",
        "\n",
        "Unfortunately, the second test comes back positive, too.\n",
        "Let us work out the requisite probabilities to invoke Bayes' theorem\n",
        "by assuming the conditional independence:\n",
        "\n",
        "$$\\begin{aligned}\n",
        "&P(D_1 = 1, D_2 = 1 \\mid H = 0) \\\\\n",
        "=& P(D_1 = 1 \\mid H = 0) P(D_2 = 1 \\mid H = 0)  \\\\\n",
        "=& 0.0003,\n",
        "\\end{aligned}\n",
        "$$\n",
        "\n",
        "$$\\begin{aligned}\n",
        "&P(D_1 = 1, D_2 = 1 \\mid H = 1) \\\\\n",
        "=& P(D_1 = 1 \\mid H = 1) P(D_2 = 1 \\mid H = 1)  \\\\\n",
        "=& 0.98.\n",
        "\\end{aligned}\n",
        "$$\n",
        "\n",
        "Now we can apply marginalization and the multiplication rule:\n",
        "\n",
        "$$\\begin{aligned}\n",
        "&P(D_1 = 1, D_2 = 1) \\\\\n",
        "=& P(D_1 = 1, D_2 = 1, H = 0) + P(D_1 = 1, D_2 = 1, H = 1)  \\\\\n",
        "=& P(D_1 = 1, D_2 = 1 \\mid H = 0)P(H=0) + P(D_1 = 1, D_2 = 1 \\mid H = 1)P(H=1)\\\\\n",
        "=& 0.00176955.\n",
        "\\end{aligned}\n",
        "$$\n",
        "\n",
        "In the end, the probability of the patient having HIV given both positive tests is\n",
        "\n",
        "$$\\begin{aligned}\n",
        "&P(H = 1 \\mid D_1 = 1, D_2 = 1)\\\\\n",
        "=& \\frac{P(D_1 = 1, D_2 = 1 \\mid H=1) P(H=1)}{P(D_1 = 1, D_2 = 1)} \\\\\n",
        "=& 0.8307.\n",
        "\\end{aligned}\n",
        "$$\n",
        "\n",
        "That is, the second test allowed us to gain much higher confidence that not all is well. Despite the second test being considerably less accurate than the first one, it still significantly improved our estimate.\n",
        "\n",
        "\n",
        "\n",
        "## Expectation and Variance\n",
        "\n",
        "To summarize key characteristics of probability distributions,\n",
        "we need some measures.\n",
        "The *expectation* (or average) of the random variable $X$ is denoted as\n",
        "\n",
        "$$E[X] = \\sum_{x} x P(X = x).$$\n",
        "\n",
        "When the input of a function $f(x)$ is a random variable drawn from the distribution $P$ with different values $x$,\n",
        "the expectation of $f(x)$ is computed as\n",
        "\n",
        "$$E_{x \\sim P}[f(x)] = \\sum_x f(x) P(x).$$\n",
        "\n",
        "\n",
        "In many cases we want to measure by how much the random variable $X$ deviates from its expectation. This can be quantified by the variance\n",
        "\n",
        "$$\\mathrm{Var}[X] = E\\left[(X - E[X])^2\\right] =\n",
        "E[X^2] - E[X]^2.$$\n",
        "\n",
        "Its square root is called the *standard deviation*.\n",
        "The variance of a function of a random variable measures\n",
        "by how much the function deviates from the expectation of the function,\n",
        "as different values $x$ of the random variable are sampled from its distribution:\n",
        "\n",
        "$$\\mathrm{Var}[f(x)] = E\\left[\\left(f(x) - E[f(x)]\\right)^2\\right].$$\n",
        "\n",
        "\n",
        "## Summary\n",
        "\n",
        "* We can sample from probability distributions.\n",
        "* We can analyze multiple random variables using joint distribution, conditional distribution, Bayes' theorem, marginalization, and independence assumptions.\n",
        "* Expectation and variance offer useful measures to summarize key characteristics of probability distributions.\n",
        "\n"
      ]
    }
  ],
  "metadata": {
    "language_info": {
      "name": "python"
    },
    "colab": {
      "name": "probability.ipynb",
      "provenance": []
    },
    "kernelspec": {
      "name": "python3",
      "display_name": "Python 3"
    }
  },
  "nbformat": 4,
  "nbformat_minor": 0
}